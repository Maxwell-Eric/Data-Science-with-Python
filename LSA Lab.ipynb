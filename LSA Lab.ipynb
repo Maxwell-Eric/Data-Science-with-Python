{
 "cells": [
  {
   "cell_type": "markdown",
   "metadata": {},
   "source": [
    "## Eric Maxwell\n",
    "## LSA Lab\n",
    "<hr style=\"height:5px\">"
   ]
  },
  {
   "cell_type": "markdown",
   "metadata": {},
   "source": [
    "### Import sci.space data"
   ]
  },
  {
   "cell_type": "code",
   "execution_count": 1,
   "metadata": {
    "collapsed": true
   },
   "outputs": [],
   "source": [
    "#Set up and get data\n",
    "from bs4 import BeautifulSoup\n",
    "import nltk\n",
    "from nltk.corpus import stopwords\n",
    "from sklearn.feature_extraction.text import TfidfVectorizer\n",
    "from sklearn.decomposition import TruncatedSVD\n",
    "from sklearn.datasets import fetch_20newsgroups\n",
    "categories = ['sci.space']\n",
    "dataset = fetch_20newsgroups(subset='all',shuffle=True, random_state=42, categories=categories)\n",
    "corpus = dataset.data"
   ]
  },
  {
   "cell_type": "code",
   "execution_count": 2,
   "metadata": {},
   "outputs": [
    {
     "name": "stdout",
     "output_type": "stream",
     "text": [
      "[nltk_data] Downloading package stopwords to\n",
      "[nltk_data]     C:\\Users\\eek00\\AppData\\Roaming\\nltk_data...\n",
      "[nltk_data]   Package stopwords is already up-to-date!\n"
     ]
    },
    {
     "data": {
      "text/plain": [
       "True"
      ]
     },
     "execution_count": 2,
     "metadata": {},
     "output_type": "execute_result"
    }
   ],
   "source": [
    "#run this only once\n",
    "nltk.download('stopwords')"
   ]
  },
  {
   "cell_type": "code",
   "execution_count": 3,
   "metadata": {
    "collapsed": true
   },
   "outputs": [],
   "source": [
    "#Use BeautifulSoup to process documents and prepare for use with TFIDF\n",
    "soup = BeautifulSoup(str(corpus), 'lxml')\n",
    "\n",
    "corpusText = soup.findAll()\n",
    "corpusDocs = [x.text for x in corpusText]\n",
    "corpusDocs.pop(0)\n",
    "corpusDocs = [x.lower() for x in corpusDocs]"
   ]
  },
  {
   "cell_type": "code",
   "execution_count": 4,
   "metadata": {
    "collapsed": true
   },
   "outputs": [],
   "source": [
    "#Update stopwords\n",
    "stopset = set(stopwords.words('english'))\n",
    "stopset.update(['edu', 'com', 'org','gov','bill','sci', 'space', 'mccall','higgins','nin','nthe',\n",
    "                'larson','henry','spencer','ni','nlines','de','van', 'like','nsubject','posting','article','see','net','na',\n",
    "                'gif','go','en','thing','faq','nnntp','host','much','norganization','kc','au','dc','us','ca','also','would',\n",
    "                'far','un','could','university','su','oz','use','must','cs','english','key3','ae','cmu','ics','uci','get',\n",
    "                'se','well','writes','please', 'people', '14','92','93', 'princeton', 'one','two', 'good', 'toronto'])"
   ]
  },
  {
   "cell_type": "code",
   "execution_count": 5,
   "metadata": {
    "collapsed": true
   },
   "outputs": [],
   "source": [
    "#Convert into sparse matrix with TFIDF\n",
    "vectorizer = TfidfVectorizer(stop_words=stopset, use_idf=True, ngram_range=(1, 3))\n",
    "X = vectorizer.fit_transform(corpusDocs)"
   ]
  },
  {
   "cell_type": "code",
   "execution_count": 6,
   "metadata": {},
   "outputs": [
    {
     "data": {
      "text/plain": [
       "<1x266020 sparse matrix of type '<class 'numpy.float64'>'\n",
       "\twith 266020 stored elements in Compressed Sparse Row format>"
      ]
     },
     "execution_count": 6,
     "metadata": {},
     "output_type": "execute_result"
    }
   ],
   "source": [
    "#Sparse matrix information\n",
    "X[0]"
   ]
  },
  {
   "cell_type": "code",
   "execution_count": 7,
   "metadata": {
    "scrolled": true
   },
   "outputs": [
    {
     "name": "stdout",
     "output_type": "stream",
     "text": [
      "  (0, 33220)\t0.00849003453689\n",
      "  (0, 110202)\t0.0122044246468\n",
      "  (0, 23301)\t0.0241435357143\n",
      "  (0, 217416)\t0.0100819160126\n",
      "  (0, 179026)\t0.0343633677836\n",
      "  (0, 204293)\t0.00126035189293\n",
      "  (0, 78389)\t0.00560456236066\n",
      "  (0, 91784)\t0.00453702667291\n",
      "  (0, 36736)\t0.0443104482515\n",
      "  (0, 245392)\t0.00640521412647\n",
      "  (0, 7547)\t0.0431418925975\n",
      "  (0, 265694)\t0.0433832401057\n",
      "  (0, 37349)\t0.00280303036465\n",
      "  (0, 193263)\t0.0348253831811\n",
      "  (0, 179449)\t0.0128433108647\n",
      "  (0, 23240)\t0.00141373012691\n",
      "  (0, 19877)\t0.0285565796472\n",
      "  (0, 79575)\t0.0149896692875\n",
      "  (0, 200418)\t0.00939623337832\n",
      "  (0, 211242)\t0.0691229357815\n",
      "  (0, 25645)\t0.0293676738766\n",
      "  (0, 178421)\t0.10915418609\n",
      "  (0, 95529)\t0.0232102347984\n",
      "  (0, 146115)\t0.0184694139435\n",
      "  (0, 47042)\t0.0114760086433\n",
      "  :\t:\n",
      "  (0, 126065)\t0.000259890919262\n",
      "  (0, 47133)\t0.000259890919262\n",
      "  (0, 117181)\t0.000259890919262\n",
      "  (0, 20054)\t0.000259890919262\n",
      "  (0, 30219)\t0.000259890919262\n",
      "  (0, 120310)\t0.000259890919262\n",
      "  (0, 149579)\t0.000259890919262\n",
      "  (0, 83856)\t0.000259890919262\n",
      "  (0, 205047)\t0.000259890919262\n",
      "  (0, 201776)\t0.000259890919262\n",
      "  (0, 106465)\t0.000259890919262\n",
      "  (0, 33586)\t0.000259890919262\n",
      "  (0, 138037)\t0.000259890919262\n",
      "  (0, 215340)\t0.000259890919262\n",
      "  (0, 204987)\t0.000259890919262\n",
      "  (0, 60358)\t0.000259890919262\n",
      "  (0, 145719)\t0.000259890919262\n",
      "  (0, 201917)\t0.000259890919262\n",
      "  (0, 56296)\t0.000259890919262\n",
      "  (0, 106559)\t0.000259890919262\n",
      "  (0, 123952)\t0.000259890919262\n",
      "  (0, 32522)\t0.000259890919262\n",
      "  (0, 145727)\t0.000259890919262\n",
      "  (0, 240402)\t0.000259890919262\n",
      "  (0, 183372)\t0.000259890919262\n"
     ]
    }
   ],
   "source": [
    "#View sparse matrix\n",
    "print(X[0])"
   ]
  },
  {
   "cell_type": "code",
   "execution_count": 8,
   "metadata": {},
   "outputs": [
    {
     "data": {
      "text/plain": [
       "(338, 266020)"
      ]
     },
     "execution_count": 8,
     "metadata": {},
     "output_type": "execute_result"
    }
   ],
   "source": [
    "#Shape of input matrix\n",
    "X.shape"
   ]
  },
  {
   "cell_type": "code",
   "execution_count": 9,
   "metadata": {},
   "outputs": [
    {
     "data": {
      "text/plain": [
       "TruncatedSVD(algorithm='randomized', n_components=25, n_iter=100,\n",
       "       random_state=None, tol=0.0)"
      ]
     },
     "execution_count": 9,
     "metadata": {},
     "output_type": "execute_result"
    }
   ],
   "source": [
    "#Decompose input matrix\n",
    "lsa = TruncatedSVD(n_components=25, n_iter=100)\n",
    "lsa.fit(X)"
   ]
  },
  {
   "cell_type": "code",
   "execution_count": 10,
   "metadata": {},
   "outputs": [
    {
     "data": {
      "text/plain": [
       "array([ 0.02207287,  0.00109564,  0.00021662, ...,  0.00128298,\n",
       "        0.00128298,  0.00128298])"
      ]
     },
     "execution_count": 10,
     "metadata": {},
     "output_type": "execute_result"
    }
   ],
   "source": [
    "#Print first row of V matrix\n",
    "lsa.components_[0]"
   ]
  },
  {
   "cell_type": "code",
   "execution_count": 11,
   "metadata": {},
   "outputs": [
    {
     "name": "stdout",
     "output_type": "stream",
     "text": [
      "3.6.1 |Anaconda 4.4.0 (64-bit)| (default, May 11 2017, 13:25:24) [MSC v.1900 64 bit (AMD64)]\n"
     ]
    }
   ],
   "source": [
    "import sys\n",
    "print (sys.version)"
   ]
  },
  {
   "cell_type": "code",
   "execution_count": 12,
   "metadata": {
    "scrolled": false
   },
   "outputs": [
    {
     "name": "stdout",
     "output_type": "stream",
     "text": [
      "Concept 0:\n",
      "nasa\n",
      "access\n",
      "launch\n",
      "earth\n",
      "shuttle\n",
      "time\n",
      "moon\n",
      "orbit\n",
      "new\n",
      "may\n",
      " \n",
      "Concept 1:\n",
      "many\n",
      "model\n",
      "ibm\n",
      "fnal\n",
      "oort\n",
      "give\n",
      "around\n",
      "back\n",
      "work\n",
      "force\n",
      " \n",
      "Concept 2:\n",
      "oort\n",
      "ibm\n",
      "launch\n",
      "many\n",
      "cloud\n",
      "venus\n",
      "nicho\n",
      "least\n",
      "fnal\n",
      "think\n",
      " \n",
      "Concept 3:\n",
      "launch\n",
      "sky\n",
      "oort\n",
      "ibm\n",
      "command\n",
      "nicho\n",
      "mass\n",
      "night\n",
      "boeing\n",
      "lindgren\n",
      " \n",
      "Concept 4:\n",
      "system\n",
      "data\n",
      "universe\n",
      "lunar\n",
      "theory\n",
      "ibm\n",
      "earth\n",
      "solar\n",
      "images\n",
      "information\n",
      " \n",
      "Concept 5:\n",
      "sky\n",
      "science\n",
      "loss\n",
      "night\n",
      "command\n",
      "government\n",
      "planet\n",
      "think\n",
      "first\n",
      "orbit\n",
      " \n",
      "Concept 6:\n",
      "fnal\n",
      "alaska\n",
      "theory\n",
      "cost\n",
      "universe\n",
      "physical\n",
      "star\n",
      "read\n",
      "aurora\n",
      "10\n",
      " \n",
      "Concept 7:\n",
      "launch\n",
      "first\n",
      "satellite\n",
      "system\n",
      "mars\n",
      "spacecraft\n",
      "theory\n",
      "1993\n",
      "10\n",
      "earth\n",
      " \n",
      "Concept 8:\n",
      "hst\n",
      "access\n",
      "field\n",
      "pat\n",
      "access digex\n",
      "digex\n",
      "het\n",
      "pluto\n",
      "een\n",
      "alaska\n",
      " \n",
      "Concept 9:\n",
      "mission\n",
      "solar\n",
      "venus\n",
      "rockets\n",
      "new\n",
      "miles\n",
      "surface\n",
      "planet\n",
      "first\n",
      "lunar\n",
      " \n",
      "Concept 10:\n",
      "venus\n",
      "theory\n",
      "solar\n",
      "dseg\n",
      "vega\n",
      "want\n",
      "balloon\n",
      "miles\n",
      "power\n",
      "universe\n",
      " \n",
      "Concept 11:\n",
      "nasa\n",
      "het\n",
      "een\n",
      "satellite\n",
      "images\n",
      "pluto\n",
      "op\n",
      "right\n",
      "nis\n",
      "utrecht\n",
      " \n",
      "Concept 12:\n",
      "nasa\n",
      "jpl\n",
      "launch\n",
      "mars\n",
      "1993\n",
      "year\n",
      "project\n",
      "orbit\n",
      "field\n",
      "observer\n",
      " \n",
      "Concept 13:\n",
      "center\n",
      "theory\n",
      "incoming\n",
      "time\n",
      "satellite\n",
      "commercial\n",
      "hst\n",
      "universe\n",
      "market\n",
      "physical\n",
      " \n",
      "Concept 14:\n",
      "work\n",
      "shuttle\n",
      "access\n",
      "access digex\n",
      "digex\n",
      "ibm\n",
      "mancus\n",
      "data\n",
      "fee\n",
      "overhead\n",
      " \n",
      "Concept 15:\n",
      "planet\n",
      "earth\n",
      "surface\n",
      "launch\n",
      "atmosphere\n",
      "moon\n",
      "first\n",
      "n128\n",
      "mars\n",
      "probe\n",
      " \n",
      "Concept 16:\n",
      "sdio\n",
      "fnal\n",
      "worden\n",
      "douglas\n",
      "mcdonnell\n",
      "program\n",
      "data\n",
      "information\n",
      "lunar\n",
      "technology\n",
      " \n",
      "Concept 17:\n",
      "1993\n",
      "dseg\n",
      "tthu\n",
      "tthu apr\n",
      "dseg ti\n",
      "ti\n",
      "apr\n",
      "loss\n",
      "command\n",
      "know\n",
      " \n",
      "Concept 18:\n",
      "first\n",
      "nasa\n",
      "read\n",
      "clipper\n",
      "power\n",
      "flight\n",
      "nmar\n",
      "04\n",
      "may\n",
      "13\n",
      " \n",
      "Concept 19:\n",
      "shuttle\n",
      "year\n",
      "universe\n",
      "theory\n",
      "incoming\n",
      "boeing\n",
      "physical\n",
      "world\n",
      "gun\n",
      "dseg\n",
      " \n",
      "Concept 20:\n",
      "nasa\n",
      "lunar\n",
      "shuttle\n",
      "propulsion\n",
      "info\n",
      "center\n",
      "tthu\n",
      "tthu apr\n",
      "mars\n",
      "apr\n",
      " \n",
      "Concept 21:\n",
      "engines\n",
      "rockets\n",
      "high\n",
      "launch\n",
      "program\n",
      "hpr\n",
      "class\n",
      "rocket\n",
      "archive\n",
      "alaska\n",
      " \n",
      "Concept 22:\n",
      "incoming\n",
      "engines\n",
      "venus\n",
      "alaska\n",
      "test\n",
      "first\n",
      "mining\n",
      "april\n",
      "vega\n",
      "mine\n",
      " \n",
      "Concept 23:\n",
      "mass\n",
      "boost\n",
      "ndistribution\n",
      "rights\n",
      "billion\n",
      "engines\n",
      "enough\n",
      "international\n",
      "jupiter\n",
      "life\n",
      " \n",
      "Concept 24:\n",
      "make\n",
      "think\n",
      "years\n",
      "moon\n",
      "gun\n",
      "light\n",
      "sky\n",
      "ether\n",
      "mother\n",
      "money\n",
      " \n"
     ]
    }
   ],
   "source": [
    "#Display concepts\n",
    "terms = vectorizer.get_feature_names()\n",
    "for i, comp in enumerate(lsa.components_): \n",
    "    termsInComp = zip (terms,comp)\n",
    "    sortedTerms =  sorted(termsInComp, key=lambda x: x[1], reverse=True) [:10]\n",
    "    print(\"Concept %d:\" % i )\n",
    "    for term in sortedTerms:\n",
    "        print(term[0])\n",
    "    print (\" \")"
   ]
  },
  {
   "cell_type": "code",
   "execution_count": 13,
   "metadata": {},
   "outputs": [
    {
     "data": {
      "text/plain": [
       "array([[ 0.02207287,  0.00109564,  0.00021662, ...,  0.00128298,\n",
       "         0.00128298,  0.00128298],\n",
       "       [-0.00218563, -0.00201432, -0.00073499, ..., -0.00116126,\n",
       "        -0.00116126, -0.00116126],\n",
       "       [-0.02640116,  0.00049571,  0.0008093 , ..., -0.00103922,\n",
       "        -0.00103922, -0.00103922],\n",
       "       ..., \n",
       "       [-0.01473928, -0.00076384, -0.00063096, ...,  0.00092467,\n",
       "         0.00092467,  0.00092467],\n",
       "       [ 0.00132992, -0.00052163, -0.00039902, ..., -0.00596557,\n",
       "        -0.00596557, -0.00596557],\n",
       "       [-0.01195573, -0.00437686, -0.00111742, ...,  0.00233148,\n",
       "         0.00233148,  0.00233148]])"
      ]
     },
     "execution_count": 13,
     "metadata": {},
     "output_type": "execute_result"
    }
   ],
   "source": [
    "lsa.components_"
   ]
  }
 ],
 "metadata": {
  "kernelspec": {
   "display_name": "Python 3",
   "language": "python",
   "name": "python3"
  },
  "language_info": {
   "codemirror_mode": {
    "name": "ipython",
    "version": 3
   },
   "file_extension": ".py",
   "mimetype": "text/x-python",
   "name": "python",
   "nbconvert_exporter": "python",
   "pygments_lexer": "ipython3",
   "version": "3.6.1"
  }
 },
 "nbformat": 4,
 "nbformat_minor": 2
}
