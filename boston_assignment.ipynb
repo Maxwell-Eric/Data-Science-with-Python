{
 "cells": [
  {
   "cell_type": "markdown",
   "metadata": {},
   "source": [
    "## Boston Housing Assignment\n",
    "\n",
    "In this assignment you'll be using linear regression to estimate the cost of house in boston, using a well known dataset.\n",
    "\n",
    "Goals:\n",
    "+  Measure the performance of the model I created using $R^{2}$ and MSE\n",
    "> Learn how to use sklearn.metrics.r2_score and sklearn.metrics.mean_squared_error\n",
    "+  Implement a new model using L2 regularization\n",
    "> Use sklearn.linear_model.Ridge or sklearn.linear_model.Lasso \n",
    "+  Get the best model you can by optimizing the regularization parameter.   "
   ]
  },
  {
   "cell_type": "code",
   "execution_count": 6,
   "metadata": {
    "collapsed": true
   },
   "outputs": [],
   "source": [
    "from sklearn import datasets\n",
    "import pandas as pd\n",
    "from sklearn.preprocessing import StandardScaler\n",
    "from sklearn.cross_validation import train_test_split\n",
    "from sklearn.metrics import mean_squared_error\n",
    "from sklearn.metrics import r2_score\n",
    "from sklearn.linear_model import LinearRegression"
   ]
  },
  {
   "cell_type": "code",
   "execution_count": 7,
   "metadata": {},
   "outputs": [
    {
     "name": "stdout",
     "output_type": "stream",
     "text": [
      "Boston House Prices dataset\n",
      "===========================\n",
      "\n",
      "Notes\n",
      "------\n",
      "Data Set Characteristics:  \n",
      "\n",
      "    :Number of Instances: 506 \n",
      "\n",
      "    :Number of Attributes: 13 numeric/categorical predictive\n",
      "    \n",
      "    :Median Value (attribute 14) is usually the target\n",
      "\n",
      "    :Attribute Information (in order):\n",
      "        - CRIM     per capita crime rate by town\n",
      "        - ZN       proportion of residential land zoned for lots over 25,000 sq.ft.\n",
      "        - INDUS    proportion of non-retail business acres per town\n",
      "        - CHAS     Charles River dummy variable (= 1 if tract bounds river; 0 otherwise)\n",
      "        - NOX      nitric oxides concentration (parts per 10 million)\n",
      "        - RM       average number of rooms per dwelling\n",
      "        - AGE      proportion of owner-occupied units built prior to 1940\n",
      "        - DIS      weighted distances to five Boston employment centres\n",
      "        - RAD      index of accessibility to radial highways\n",
      "        - TAX      full-value property-tax rate per $10,000\n",
      "        - PTRATIO  pupil-teacher ratio by town\n",
      "        - B        1000(Bk - 0.63)^2 where Bk is the proportion of blacks by town\n",
      "        - LSTAT    % lower status of the population\n",
      "        - MEDV     Median value of owner-occupied homes in $1000's\n",
      "\n",
      "    :Missing Attribute Values: None\n",
      "\n",
      "    :Creator: Harrison, D. and Rubinfeld, D.L.\n",
      "\n",
      "This is a copy of UCI ML housing dataset.\n",
      "http://archive.ics.uci.edu/ml/datasets/Housing\n",
      "\n",
      "\n",
      "This dataset was taken from the StatLib library which is maintained at Carnegie Mellon University.\n",
      "\n",
      "The Boston house-price data of Harrison, D. and Rubinfeld, D.L. 'Hedonic\n",
      "prices and the demand for clean air', J. Environ. Economics & Management,\n",
      "vol.5, 81-102, 1978.   Used in Belsley, Kuh & Welsch, 'Regression diagnostics\n",
      "...', Wiley, 1980.   N.B. Various transformations are used in the table on\n",
      "pages 244-261 of the latter.\n",
      "\n",
      "The Boston house-price data has been used in many machine learning papers that address regression\n",
      "problems.   \n",
      "     \n",
      "**References**\n",
      "\n",
      "   - Belsley, Kuh & Welsch, 'Regression diagnostics: Identifying Influential Data and Sources of Collinearity', Wiley, 1980. 244-261.\n",
      "   - Quinlan,R. (1993). Combining Instance-Based and Model-Based Learning. In Proceedings on the Tenth International Conference of Machine Learning, 236-243, University of Massachusetts, Amherst. Morgan Kaufmann.\n",
      "   - many more! (see http://archive.ics.uci.edu/ml/datasets/Housing)\n",
      "\n"
     ]
    }
   ],
   "source": [
    "bean = datasets.load_boston()\n",
    "print(bean.DESCR)"
   ]
  },
  {
   "cell_type": "code",
   "execution_count": 8,
   "metadata": {
    "collapsed": true
   },
   "outputs": [],
   "source": [
    "def load_boston():\n",
    "    scaler = StandardScaler()\n",
    "    boston = datasets.load_boston()\n",
    "    X=boston.data\n",
    "    y=boston.target\n",
    "    X = scaler.fit_transform(X)\n",
    "    return train_test_split(X,y)#,random_state=42)"
   ]
  },
  {
   "cell_type": "code",
   "execution_count": 9,
   "metadata": {
    "collapsed": true
   },
   "outputs": [],
   "source": [
    "X_train, X_test, y_train, y_test = load_boston()"
   ]
  },
  {
   "cell_type": "code",
   "execution_count": 10,
   "metadata": {},
   "outputs": [
    {
     "data": {
      "text/plain": [
       "(379, 13)"
      ]
     },
     "execution_count": 10,
     "metadata": {},
     "output_type": "execute_result"
    }
   ],
   "source": [
    "X_train.shape"
   ]
  },
  {
   "cell_type": "markdown",
   "metadata": {},
   "source": [
    "### Fitting a Linear Regression\n",
    "\n",
    "It's as easy as instantiating a new regression object (line 1) and giving your regression object your training data\n",
    "(line 2) by calling .fit(independent variables, dependent variable)\n",
    "\n"
   ]
  },
  {
   "cell_type": "code",
   "execution_count": 11,
   "metadata": {},
   "outputs": [
    {
     "data": {
      "text/plain": [
       "LinearRegression(copy_X=True, fit_intercept=True, n_jobs=1, normalize=False)"
      ]
     },
     "execution_count": 11,
     "metadata": {},
     "output_type": "execute_result"
    }
   ],
   "source": [
    "clf = LinearRegression()\n",
    "clf.fit(X_train, y_train)"
   ]
  },
  {
   "cell_type": "markdown",
   "metadata": {},
   "source": [
    "### Making a Prediction\n",
    "X_test is our holdout set of data.  We know the answer (y_test) but the computer does not.   \n",
    "\n",
    "Using the command below, I create a tuple for each observation, where I'm combining the real value (y_test) with\n",
    "the value our regressor predicts (clf.predict(X_test))\n",
    "\n",
    "Use a similiar format to get your r2 and mse metrics working.  Using the [scikit learn api](http://scikit-learn.org/stable/modules/model_evaluation.html) if you need help!"
   ]
  },
  {
   "cell_type": "code",
   "execution_count": 12,
   "metadata": {},
   "outputs": [
    {
     "data": {
      "text/plain": [
       "[(7.4000000000000004, 6.1557545319801399),\n",
       " (31.5, 31.150789995953865),\n",
       " (8.5, 7.5866130855849327),\n",
       " (17.5, 17.056366458677431),\n",
       " (21.199999999999999, 23.361994027764652),\n",
       " (34.899999999999999, 33.611285763490699),\n",
       " (50.0, 40.820086435322352),\n",
       " (14.5, 18.235117530830486),\n",
       " (23.0, 30.419884366857101),\n",
       " (21.899999999999999, 24.311769424719667),\n",
       " (37.200000000000003, 32.317868235873874),\n",
       " (12.1, 18.106048443207513),\n",
       " (44.799999999999997, 36.937300017828179),\n",
       " (22.0, 21.680081256696258),\n",
       " (20.5, 24.479304512836059),\n",
       " (17.100000000000001, 20.337850657391545),\n",
       " (21.0, 20.545052173959331),\n",
       " (29.100000000000001, 30.16083165303413),\n",
       " (29.899999999999999, 30.872515371986445),\n",
       " (32.399999999999999, 36.499801090485732),\n",
       " (10.5, 7.0917403286575507),\n",
       " (19.5, 20.693845756579947),\n",
       " (50.0, 37.992888180706487),\n",
       " (16.699999999999999, 20.567127694302499),\n",
       " (19.699999999999999, 21.740195216867296),\n",
       " (8.0999999999999996, 3.6676709299855972),\n",
       " (25.199999999999999, 27.279218151385734),\n",
       " (30.100000000000001, 25.928776339511149),\n",
       " (23.699999999999999, 28.524400197034026),\n",
       " (15.0, 18.842207451437066),\n",
       " (10.199999999999999, 17.194834241327051),\n",
       " (17.199999999999999, 15.354061994900567),\n",
       " (23.800000000000001, 26.214542274504559),\n",
       " (50.0, 40.038979352757778),\n",
       " (23.199999999999999, 25.654476064200068),\n",
       " (20.300000000000001, 22.778809111510828),\n",
       " (23.699999999999999, 27.452628024916748),\n",
       " (9.5, 13.086640813218594),\n",
       " (24.199999999999999, 25.398139149407093),\n",
       " (23.199999999999999, 17.502738828226697),\n",
       " (16.199999999999999, 15.245087961816392),\n",
       " (50.0, 34.609919084955841),\n",
       " (21.100000000000001, 21.114440126817886),\n",
       " (23.100000000000001, 25.24516811379225),\n",
       " (15.0, 16.182888134386737),\n",
       " (32.0, 32.724002998686174),\n",
       " (10.199999999999999, 16.747793942436399),\n",
       " (22.800000000000001, 25.086792039165346),\n",
       " (27.5, 19.621538803226862),\n",
       " (34.899999999999999, 33.591466350150213),\n",
       " (13.300000000000001, 16.368314225576864),\n",
       " (20.0, 18.838818152372184),\n",
       " (22.800000000000001, 25.923424391909695),\n",
       " (24.300000000000001, 24.810170711279017),\n",
       " (34.899999999999999, 29.40193671555441),\n",
       " (21.699999999999999, 21.049051355724568),\n",
       " (20.0, 20.845346718491687),\n",
       " (22.699999999999999, 23.200922430456899),\n",
       " (18.300000000000001, 19.156397115701495),\n",
       " (27.100000000000001, 27.630769456677797),\n",
       " (17.5, 17.056406644501973),\n",
       " (13.1, 14.56461470911926),\n",
       " (32.700000000000003, 29.597348431021121),\n",
       " (24.399999999999999, 23.734735875959494),\n",
       " (39.799999999999997, 33.442440736322254),\n",
       " (19.399999999999999, 23.570116135728355),\n",
       " (5.0, 8.2870773059074736),\n",
       " (15.699999999999999, 14.849954299987875),\n",
       " (48.5, 40.678468019758782),\n",
       " (10.4, 7.5879780140424575),\n",
       " (26.699999999999999, 33.413537311762312),\n",
       " (28.0, 28.246417530286333),\n",
       " (16.100000000000001, 18.645970186898545),\n",
       " (17.699999999999999, 20.26397648012582),\n",
       " (14.199999999999999, 18.471014811708887),\n",
       " (20.399999999999999, 19.915853310349132),\n",
       " (15.4, 17.823116589192637),\n",
       " (17.399999999999999, 15.766313933512707),\n",
       " (37.600000000000001, 36.432410368454114),\n",
       " (42.299999999999997, 35.762227546308011),\n",
       " (22.199999999999999, 22.541532775513559),\n",
       " (20.699999999999999, 21.929378307704745),\n",
       " (12.800000000000001, 13.389140755095879),\n",
       " (20.199999999999999, 22.559723863947674),\n",
       " (19.600000000000001, 18.259600636792459),\n",
       " (22.300000000000001, 26.377722668597414),\n",
       " (18.600000000000001, 17.537056179953414),\n",
       " (20.899999999999999, 22.108704805992257),\n",
       " (36.0, 35.131032702402337),\n",
       " (17.800000000000001, 17.682295154993795),\n",
       " (22.800000000000001, 28.443838455814383),\n",
       " (22.0, 26.995506488425981),\n",
       " (19.100000000000001, 24.440688331800299),\n",
       " (50.0, 38.774916629474582),\n",
       " (20.800000000000001, 19.394849401647416),\n",
       " (13.9, 13.903425197156375),\n",
       " (19.600000000000001, 23.638497355008081),\n",
       " (22.5, 22.327549930883624),\n",
       " (10.199999999999999, 7.2279609078641833),\n",
       " (29.0, 31.430738716317911),\n",
       " (26.5, 25.079917425960144),\n",
       " (13.4, 16.489106217980996),\n",
       " (18.699999999999999, 21.88343032427516),\n",
       " (25.0, 22.729839371482946),\n",
       " (14.5, 13.967808506487062),\n",
       " (50.0, 35.801715997389685),\n",
       " (20.699999999999999, 26.624565756743539),\n",
       " (22.600000000000001, 22.977733020327431),\n",
       " (20.0, 23.080435673038913),\n",
       " (14.9, 15.230692964075384),\n",
       " (14.6, 19.492806310586204),\n",
       " (21.600000000000001, 25.553430298797796),\n",
       " (20.100000000000001, 24.119767812380793),\n",
       " (14.800000000000001, 14.828745947726539),\n",
       " (19.600000000000001, 21.868684685238556),\n",
       " (25.0, 25.46786823326066),\n",
       " (32.899999999999999, 29.826361751575924),\n",
       " (33.399999999999999, 34.700044676024717),\n",
       " (9.5999999999999996, 14.572865985962816),\n",
       " (13.300000000000001, 19.706890239015891),\n",
       " (27.100000000000001, 19.550448029198829),\n",
       " (18.899999999999999, 19.189666824538236),\n",
       " (21.699999999999999, 23.442126884581793),\n",
       " (25.0, 25.218058510604166),\n",
       " (24.399999999999999, 24.509426473140245),\n",
       " (35.200000000000003, 35.136783296095771),\n",
       " (14.0, 12.991225417654681)]"
      ]
     },
     "execution_count": 12,
     "metadata": {},
     "output_type": "execute_result"
    }
   ],
   "source": [
    "list(zip (y_test, clf.predict(X_test)))"
   ]
  },
  {
   "cell_type": "markdown",
   "metadata": {},
   "source": [
    "<hr style=\"height:3px\">\n",
    "## Eric Maxwell\n",
    "## CSC 570R\n",
    "<hr style=\"height:1px\">\n",
    "### RMSE and R-Squared\n",
    "<hr style=\"height:1px\">"
   ]
  },
  {
   "cell_type": "markdown",
   "metadata": {},
   "source": [
    "RSME"
   ]
  },
  {
   "cell_type": "code",
   "execution_count": 13,
   "metadata": {
    "collapsed": true
   },
   "outputs": [],
   "source": [
    "from math import *"
   ]
  },
  {
   "cell_type": "code",
   "execution_count": 22,
   "metadata": {},
   "outputs": [
    {
     "name": "stdout",
     "output_type": "stream",
     "text": [
      "RSME = 4.216309422438102\n"
     ]
    }
   ],
   "source": [
    "#Calculate RMSE\n",
    "rmse = sqrt(mean_squared_error(y_test, clf.predict(X_test)))\n",
    "print(\"RSME =\",rmse)"
   ]
  },
  {
   "cell_type": "markdown",
   "metadata": {},
   "source": [
    "<hr>\n",
    "$R^{2}$"
   ]
  },
  {
   "cell_type": "code",
   "execution_count": 23,
   "metadata": {},
   "outputs": [
    {
     "name": "stdout",
     "output_type": "stream",
     "text": [
      "R2 = 0.817466951368\n"
     ]
    }
   ],
   "source": [
    "#Calculate R-squared\n",
    "r2 = r2_score(y_test, clf.predict(X_test))\n",
    "print(\"R2 =\",r2)"
   ]
  },
  {
   "cell_type": "markdown",
   "metadata": {},
   "source": [
    "<hr style=\"height:3px\">\n",
    "### Ridge Model\n",
    "<hr style=\"height:1px\">"
   ]
  },
  {
   "cell_type": "code",
   "execution_count": 16,
   "metadata": {
    "collapsed": true
   },
   "outputs": [],
   "source": [
    "from sklearn.linear_model import Ridge\n",
    "from sklearn.linear_model import Lasso\n",
    "import numpy as np"
   ]
  },
  {
   "cell_type": "markdown",
   "metadata": {},
   "source": [
    "#### Create Base Model"
   ]
  },
  {
   "cell_type": "code",
   "execution_count": 26,
   "metadata": {},
   "outputs": [
    {
     "data": {
      "text/plain": [
       "Ridge(alpha=1.0, copy_X=True, fit_intercept=True, max_iter=None,\n",
       "   normalize=False, random_state=None, solver='auto', tol=0.001)"
      ]
     },
     "execution_count": 26,
     "metadata": {},
     "output_type": "execute_result"
    }
   ],
   "source": [
    "#Create Ridge Learning Model\n",
    "ridge = Ridge()\n",
    "ridge.fit(X_train, y_train)"
   ]
  },
  {
   "cell_type": "markdown",
   "metadata": {},
   "source": [
    "#### Display Base Model Scores"
   ]
  },
  {
   "cell_type": "code",
   "execution_count": 27,
   "metadata": {},
   "outputs": [
    {
     "name": "stdout",
     "output_type": "stream",
     "text": [
      "RMSE = 4.214918817393602\n",
      "R2 = 0.817587336043\n"
     ]
    }
   ],
   "source": [
    "#Display RMSE and R2 for base model\n",
    "print(\"RMSE =\",sqrt(mean_squared_error(y_test, ridge.predict(X_test))))\n",
    "print(\"R2 =\",r2_score(y_test, ridge.predict(X_test)))\n"
   ]
  },
  {
   "cell_type": "markdown",
   "metadata": {},
   "source": [
    "#### Optimize Alpha"
   ]
  },
  {
   "cell_type": "code",
   "execution_count": 28,
   "metadata": {},
   "outputs": [
    {
     "name": "stdout",
     "output_type": "stream",
     "text": [
      "Best alpha for RMSE on test set=  2.472 , RMSE =  4.2142123411422645\n",
      "Best alpha for r2 on test set =  2.472 , R2 = 0.817648480478\n"
     ]
    }
   ],
   "source": [
    "#Try several possible alphas to optimize alpha value\n",
    "a = np.arange(0.0, 20.0, 0.001)\n",
    "\n",
    "#Save first alpha as best yet for rmse and r2 values\n",
    "best_rmse_alpha_test = a[0]\n",
    "best_r2_alpha_test = a[0]\n",
    "\n",
    "#Create Ridge model with alpha = 0 and fit to training set\n",
    "r = Ridge(alpha=a[0])\n",
    "r.fit(X_train, y_train)\n",
    "    \n",
    "#Save RMSE and R2 scores for first alpha as best yet\n",
    "best_rmse_test = sqrt(mean_squared_error(y_test, r.predict(X_test)))\n",
    "best_r2_test = r2_score(y_test, r.predict(X_test))\n",
    "\n",
    "#Iterate through alpha array updating the ridge model with new alpha and train model\n",
    "for i in range(len(a)):\n",
    "    r.set_params(alpha=a[i])\n",
    "    r.fit(X_train, y_train)\n",
    "        \n",
    "    #Get predictions for the test set and calculate RMSE and R2 scores\n",
    "    p_test = r.predict(X_test)\n",
    "    current_rmse = sqrt(mean_squared_error(y_test, p_test))\n",
    "    current_r2 = r2_score(y_test, p_test)\n",
    "    \n",
    "    #Update best alpha and scores if new model is an improvement\n",
    "    if current_rmse < best_rmse_test:\n",
    "        best_rmse_test = current_rmse\n",
    "        best_rmse_alpha_test = a[i]\n",
    "            \n",
    "    if current_r2 > best_r2_test:\n",
    "        best_r2_test = current_r2\n",
    "        best_r2_alpha_test = a[i]\n",
    "            \n",
    "#Display results\n",
    "print(\"Best alpha for RMSE on test set= \",best_rmse_alpha_test,\", RMSE = \",best_rmse_test) \n",
    "print(\"Best alpha for r2 on test set = \",best_r2_alpha_test,\", R2 =\",best_r2_test)"
   ]
  },
  {
   "cell_type": "markdown",
   "metadata": {},
   "source": [
    "#### Display RMSE and $R^{2}$ Results compared to Base Model"
   ]
  },
  {
   "cell_type": "code",
   "execution_count": 32,
   "metadata": {},
   "outputs": [
    {
     "name": "stdout",
     "output_type": "stream",
     "text": [
      "Ridge Base Model :: R2 = 0.817587336043 ; RMSE= 4.214918817393602\n",
      "Ridge Model with Alpha = 2.472 :: R2 = 0.817648480478 ; RMSE= 4.2142123411422645\n"
     ]
    }
   ],
   "source": [
    "#Compare RMSE and R2 scores for base model vs model with optimized alpha\n",
    "r = Ridge()\n",
    "r.fit(X_train, y_train)\n",
    "print(\"Ridge Base Model :: R2 =\",r2_score(y_test, r.predict(X_test)),\"; RMSE=\", sqrt(mean_squared_error(y_test, r.predict(X_test))))\n",
    "\n",
    "r = Ridge(alpha=best_rmse_alpha_test)\n",
    "r.fit(X_train, y_train)\n",
    "print(\"Ridge Model with Alpha =\",best_rmse_alpha_test,\":: R2 =\",r2_score(y_test, r.predict(X_test)),\"; RMSE=\",sqrt(mean_squared_error(y_test, r.predict(X_test))))"
   ]
  },
  {
   "cell_type": "code",
   "execution_count": null,
   "metadata": {
    "collapsed": true
   },
   "outputs": [],
   "source": []
  }
 ],
 "metadata": {
  "kernelspec": {
   "display_name": "Python 3",
   "language": "python",
   "name": "python3"
  },
  "language_info": {
   "codemirror_mode": {
    "name": "ipython",
    "version": 3
   },
   "file_extension": ".py",
   "mimetype": "text/x-python",
   "name": "python",
   "nbconvert_exporter": "python",
   "pygments_lexer": "ipython3",
   "version": "3.6.1"
  }
 },
 "nbformat": 4,
 "nbformat_minor": 1
}
