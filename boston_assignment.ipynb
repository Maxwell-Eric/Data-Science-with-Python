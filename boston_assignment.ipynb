{
 "cells": [
  {
   "cell_type": "markdown",
   "metadata": {},
   "source": [
    "## Boston Housing Assignment\n",
    "\n",
    "In this assignment you'll be using linear regression to estimate the cost of house in boston, using a well known dataset.\n",
    "\n",
    "Goals:\n",
    "+  Measure the performance of the model I created using $R^{2}$ and MSE\n",
    "> Learn how to use sklearn.metrics.r2_score and sklearn.metrics.mean_squared_error\n",
    "+  Implement a new model using L2 regularization\n",
    "> Use sklearn.linear_model.Ridge or sklearn.linear_model.Lasso \n",
    "+  Get the best model you can by optimizing the regularization parameter.   "
   ]
  },
  {
   "cell_type": "code",
   "execution_count": 18,
   "metadata": {
    "collapsed": true
   },
   "outputs": [],
   "source": [
    "from sklearn import datasets\n",
    "import pandas as pd\n",
    "from sklearn.preprocessing import StandardScaler\n",
    "from sklearn.cross_validation import train_test_split\n",
    "from sklearn.metrics import mean_squared_error\n",
    "from sklearn.metrics import r2_score\n",
    "from sklearn.linear_model import LinearRegression"
   ]
  },
  {
   "cell_type": "code",
   "execution_count": 19,
   "metadata": {},
   "outputs": [
    {
     "name": "stdout",
     "output_type": "stream",
     "text": [
      "Boston House Prices dataset\n",
      "===========================\n",
      "\n",
      "Notes\n",
      "------\n",
      "Data Set Characteristics:  \n",
      "\n",
      "    :Number of Instances: 506 \n",
      "\n",
      "    :Number of Attributes: 13 numeric/categorical predictive\n",
      "    \n",
      "    :Median Value (attribute 14) is usually the target\n",
      "\n",
      "    :Attribute Information (in order):\n",
      "        - CRIM     per capita crime rate by town\n",
      "        - ZN       proportion of residential land zoned for lots over 25,000 sq.ft.\n",
      "        - INDUS    proportion of non-retail business acres per town\n",
      "        - CHAS     Charles River dummy variable (= 1 if tract bounds river; 0 otherwise)\n",
      "        - NOX      nitric oxides concentration (parts per 10 million)\n",
      "        - RM       average number of rooms per dwelling\n",
      "        - AGE      proportion of owner-occupied units built prior to 1940\n",
      "        - DIS      weighted distances to five Boston employment centres\n",
      "        - RAD      index of accessibility to radial highways\n",
      "        - TAX      full-value property-tax rate per $10,000\n",
      "        - PTRATIO  pupil-teacher ratio by town\n",
      "        - B        1000(Bk - 0.63)^2 where Bk is the proportion of blacks by town\n",
      "        - LSTAT    % lower status of the population\n",
      "        - MEDV     Median value of owner-occupied homes in $1000's\n",
      "\n",
      "    :Missing Attribute Values: None\n",
      "\n",
      "    :Creator: Harrison, D. and Rubinfeld, D.L.\n",
      "\n",
      "This is a copy of UCI ML housing dataset.\n",
      "http://archive.ics.uci.edu/ml/datasets/Housing\n",
      "\n",
      "\n",
      "This dataset was taken from the StatLib library which is maintained at Carnegie Mellon University.\n",
      "\n",
      "The Boston house-price data of Harrison, D. and Rubinfeld, D.L. 'Hedonic\n",
      "prices and the demand for clean air', J. Environ. Economics & Management,\n",
      "vol.5, 81-102, 1978.   Used in Belsley, Kuh & Welsch, 'Regression diagnostics\n",
      "...', Wiley, 1980.   N.B. Various transformations are used in the table on\n",
      "pages 244-261 of the latter.\n",
      "\n",
      "The Boston house-price data has been used in many machine learning papers that address regression\n",
      "problems.   \n",
      "     \n",
      "**References**\n",
      "\n",
      "   - Belsley, Kuh & Welsch, 'Regression diagnostics: Identifying Influential Data and Sources of Collinearity', Wiley, 1980. 244-261.\n",
      "   - Quinlan,R. (1993). Combining Instance-Based and Model-Based Learning. In Proceedings on the Tenth International Conference of Machine Learning, 236-243, University of Massachusetts, Amherst. Morgan Kaufmann.\n",
      "   - many more! (see http://archive.ics.uci.edu/ml/datasets/Housing)\n",
      "\n"
     ]
    }
   ],
   "source": [
    "bean = datasets.load_boston()\n",
    "print(bean.DESCR)"
   ]
  },
  {
   "cell_type": "code",
   "execution_count": 20,
   "metadata": {
    "collapsed": true
   },
   "outputs": [],
   "source": [
    "def load_boston():\n",
    "    scaler = StandardScaler()\n",
    "    boston = datasets.load_boston()\n",
    "    X=boston.data\n",
    "    y=boston.target\n",
    "    X = scaler.fit_transform(X)\n",
    "    return train_test_split(X,y)#,random_state=42)"
   ]
  },
  {
   "cell_type": "code",
   "execution_count": 21,
   "metadata": {
    "collapsed": true
   },
   "outputs": [],
   "source": [
    "X_train, X_test, y_train, y_test = load_boston()"
   ]
  },
  {
   "cell_type": "code",
   "execution_count": 22,
   "metadata": {},
   "outputs": [
    {
     "data": {
      "text/plain": [
       "(379, 13)"
      ]
     },
     "execution_count": 22,
     "metadata": {},
     "output_type": "execute_result"
    }
   ],
   "source": [
    "X_train.shape"
   ]
  },
  {
   "cell_type": "markdown",
   "metadata": {},
   "source": [
    "### Fitting a Linear Regression\n",
    "\n",
    "It's as easy as instantiating a new regression object (line 1) and giving your regression object your training data\n",
    "(line 2) by calling .fit(independent variables, dependent variable)\n",
    "\n"
   ]
  },
  {
   "cell_type": "code",
   "execution_count": 23,
   "metadata": {},
   "outputs": [
    {
     "data": {
      "text/plain": [
       "LinearRegression(copy_X=True, fit_intercept=True, n_jobs=1, normalize=False)"
      ]
     },
     "execution_count": 23,
     "metadata": {},
     "output_type": "execute_result"
    }
   ],
   "source": [
    "clf = LinearRegression()\n",
    "clf.fit(X_train, y_train)"
   ]
  },
  {
   "cell_type": "markdown",
   "metadata": {},
   "source": [
    "### Making a Prediction\n",
    "X_test is our holdout set of data.  We know the answer (y_test) but the computer does not.   \n",
    "\n",
    "Using the command below, I create a tuple for each observation, where I'm combining the real value (y_test) with\n",
    "the value our regressor predicts (clf.predict(X_test))\n",
    "\n",
    "Use a similiar format to get your r2 and mse metrics working.  Using the [scikit learn api](http://scikit-learn.org/stable/modules/model_evaluation.html) if you need help!"
   ]
  },
  {
   "cell_type": "code",
   "execution_count": 24,
   "metadata": {},
   "outputs": [
    {
     "data": {
      "text/plain": [
       "[(10.5, 5.7012664038733334),\n",
       " (19.600000000000001, 22.772607979003755),\n",
       " (15.699999999999999, 14.757617750732459),\n",
       " (5.5999999999999996, 11.053189149838483),\n",
       " (24.300000000000001, 30.349122243221522),\n",
       " (20.600000000000001, 21.845558119948073),\n",
       " (20.100000000000001, 16.057224014219905),\n",
       " (19.600000000000001, 18.901950930365366),\n",
       " (21.5, 24.467554888913213),\n",
       " (23.600000000000001, 29.55397767059803),\n",
       " (20.600000000000001, 21.026103245294106),\n",
       " (23.699999999999999, 27.682878545824344),\n",
       " (14.300000000000001, 13.767312377061181),\n",
       " (21.699999999999999, 21.610619880193784),\n",
       " (23.800000000000001, 25.566845230963594),\n",
       " (8.6999999999999993, 8.5596461949963984),\n",
       " (18.199999999999999, 18.137061116547514),\n",
       " (23.300000000000001, 21.425085249871636),\n",
       " (25.0, 21.933198750695819),\n",
       " (19.5, 16.848935592222681),\n",
       " (50.0, 31.446495163954538),\n",
       " (22.800000000000001, 24.862829718380318),\n",
       " (19.899999999999999, 17.43778619989553),\n",
       " (22.600000000000001, 18.363195593200476),\n",
       " (22.199999999999999, 23.667208794017608),\n",
       " (21.399999999999999, 19.694065056990276),\n",
       " (11.9, 8.1402646410768504),\n",
       " (22.699999999999999, 20.415027420811256),\n",
       " (18.699999999999999, 21.18325696459917),\n",
       " (11.300000000000001, 12.755939905315667),\n",
       " (7.2000000000000002, 17.006192722703485),\n",
       " (24.5, 20.391622688078101),\n",
       " (19.399999999999999, 23.518676219212598),\n",
       " (24.100000000000001, 25.796501096747487),\n",
       " (23.0, 23.532303010913978),\n",
       " (21.600000000000001, 25.373001159371057),\n",
       " (19.699999999999999, 21.564971355589062),\n",
       " (17.100000000000001, 20.288145263959052),\n",
       " (22.600000000000001, 27.132632709754045),\n",
       " (20.399999999999999, 20.693429745678088),\n",
       " (24.0, 25.597179796604728),\n",
       " (15.300000000000001, 19.8815993018951),\n",
       " (14.6, 18.736839344312425),\n",
       " (20.100000000000001, 18.309040841995277),\n",
       " (11.0, 14.01806078874684),\n",
       " (30.100000000000001, 24.968400624176919),\n",
       " (17.399999999999999, 17.579494229834062),\n",
       " (23.699999999999999, 28.697588759681651),\n",
       " (19.300000000000001, 21.657069486668949),\n",
       " (17.800000000000001, 15.997340967279941),\n",
       " (8.5, 6.8675039562554314),\n",
       " (25.0, 24.997425988005521),\n",
       " (12.0, 11.260287699119127),\n",
       " (14.4, 3.4560772534255584),\n",
       " (8.4000000000000004, 14.11965502020178),\n",
       " (44.799999999999997, 38.223638562476452),\n",
       " (48.5, 41.899977550691005),\n",
       " (23.800000000000001, 27.585584010424423),\n",
       " (27.899999999999999, 19.924419223121287),\n",
       " (48.799999999999997, 41.106056009849638),\n",
       " (24.399999999999999, 22.661205777603794),\n",
       " (41.700000000000003, 37.866623717243627),\n",
       " (24.800000000000001, 31.050258954462986),\n",
       " (22.100000000000001, 27.147414936063068),\n",
       " (29.100000000000001, 30.414339394382466),\n",
       " (30.100000000000001, 30.028718411350361),\n",
       " (18.899999999999999, 14.494998967082399),\n",
       " (30.100000000000001, 35.648574705830271),\n",
       " (12.800000000000001, 12.241406265517387),\n",
       " (20.300000000000001, 22.87446363791631),\n",
       " (19.899999999999999, 18.115599386165719),\n",
       " (21.0, 20.319040823572969),\n",
       " (14.4, 9.177944062399531),\n",
       " (19.600000000000001, 17.292183056317363),\n",
       " (21.399999999999999, 25.076651201081351),\n",
       " (32.0, 33.856947721396885),\n",
       " (19.5, 18.287324838623611),\n",
       " (23.300000000000001, 26.192268565470687),\n",
       " (26.399999999999999, 29.166434466340494),\n",
       " (5.0, 5.8621504865263852),\n",
       " (13.1, 13.954922813043513),\n",
       " (23.899999999999999, 27.229039388329024),\n",
       " (17.399999999999999, 23.776508954985893),\n",
       " (22.199999999999999, 26.197113135360034),\n",
       " (20.0, 22.446345176237156),\n",
       " (13.199999999999999, 8.3196974907527395),\n",
       " (19.399999999999999, 19.387856068438495),\n",
       " (17.199999999999999, 14.893698620456636),\n",
       " (22.199999999999999, 19.112894367407371),\n",
       " (19.399999999999999, 17.546210417334468),\n",
       " (28.699999999999999, 25.35404854370482),\n",
       " (19.899999999999999, 18.999378123207638),\n",
       " (20.899999999999999, 20.962950632575581),\n",
       " (46.700000000000003, 35.316980270874829),\n",
       " (19.399999999999999, 17.866307263009688),\n",
       " (33.0, 23.034869952112199),\n",
       " (19.100000000000001, 16.578106800890744),\n",
       " (27.100000000000001, 28.177340745070829),\n",
       " (13.5, 13.420097994871853),\n",
       " (29.600000000000001, 24.520717378686747),\n",
       " (21.800000000000001, 20.568351187943637),\n",
       " (23.899999999999999, 26.943113937072049),\n",
       " (31.100000000000001, 32.342673673171397),\n",
       " (18.899999999999999, 23.922933484253559),\n",
       " (20.5, 19.801474042736015),\n",
       " (7.0, 8.3901766821509156),\n",
       " (25.0, 21.93479871577938),\n",
       " (30.300000000000001, 33.220202773105065),\n",
       " (14.199999999999999, 17.607052080197164),\n",
       " (27.5, 24.159699911860571),\n",
       " (20.0, 23.348007354139845),\n",
       " (18.899999999999999, 22.172408181725988),\n",
       " (32.899999999999999, 30.196908385850204),\n",
       " (50.0, 39.514062714818678),\n",
       " (22.199999999999999, 24.375451552010283),\n",
       " (19.199999999999999, 19.648492299519571),\n",
       " (27.0, 33.026907374307427),\n",
       " (17.5, 16.475554231937625),\n",
       " (15.199999999999999, 15.241474635385188),\n",
       " (50.0, 24.873205471321956),\n",
       " (20.300000000000001, 23.8452716541412),\n",
       " (13.800000000000001, 0.30276777669658372),\n",
       " (17.800000000000001, 21.348534820926378),\n",
       " (36.0, 36.9652638355359),\n",
       " (23.899999999999999, 24.88644502188761),\n",
       " (13.4, 12.776585387660612),\n",
       " (14.6, 8.6654352653969404)]"
      ]
     },
     "execution_count": 24,
     "metadata": {},
     "output_type": "execute_result"
    }
   ],
   "source": [
    "list(zip (y_test, clf.predict(X_test)))"
   ]
  },
  {
   "cell_type": "markdown",
   "metadata": {},
   "source": [
    "<hr style=\"height:3px\">\n",
    "## Eric Maxwell\n",
    "## CSC 570R\n",
    "<hr style=\"height:1px\">\n",
    "### RMSE and R-Squared\n",
    "<hr style=\"height:1px\">"
   ]
  },
  {
   "cell_type": "code",
   "execution_count": 25,
   "metadata": {
    "collapsed": true
   },
   "outputs": [],
   "source": [
    "from math import *"
   ]
  },
  {
   "cell_type": "code",
   "execution_count": 26,
   "metadata": {},
   "outputs": [
    {
     "data": {
      "text/plain": [
       "4.881303146611374"
      ]
     },
     "execution_count": 26,
     "metadata": {},
     "output_type": "execute_result"
    }
   ],
   "source": [
    "#Calculate RMSE\n",
    "rmse = sqrt(mean_squared_error(y_test, clf.predict(X_test)))\n",
    "rmse"
   ]
  },
  {
   "cell_type": "code",
   "execution_count": 27,
   "metadata": {},
   "outputs": [
    {
     "data": {
      "text/plain": [
       "0.69537468647427048"
      ]
     },
     "execution_count": 27,
     "metadata": {},
     "output_type": "execute_result"
    }
   ],
   "source": [
    "#Calculate R-squared\n",
    "r2 = r2_score(y_test, clf.predict(X_test))\n",
    "r2"
   ]
  },
  {
   "cell_type": "markdown",
   "metadata": {},
   "source": [
    "<hr style=\"height:3px\">\n",
    "### Ridge Model\n",
    "<hr style=\"height:1px\">"
   ]
  },
  {
   "cell_type": "code",
   "execution_count": 28,
   "metadata": {
    "collapsed": true
   },
   "outputs": [],
   "source": [
    "from sklearn.linear_model import Ridge\n",
    "from sklearn.linear_model import Lasso\n",
    "import numpy as np"
   ]
  },
  {
   "cell_type": "markdown",
   "metadata": {},
   "source": [
    "#### Create base model with alpha = 0"
   ]
  },
  {
   "cell_type": "code",
   "execution_count": 29,
   "metadata": {},
   "outputs": [
    {
     "data": {
      "text/plain": [
       "Ridge(alpha=0, copy_X=True, fit_intercept=True, max_iter=None,\n",
       "   normalize=False, random_state=None, solver='auto', tol=0.001)"
      ]
     },
     "execution_count": 29,
     "metadata": {},
     "output_type": "execute_result"
    }
   ],
   "source": [
    "#Create Ridge Learning Model with Alpha=0\n",
    "ridge = Ridge(alpha=0)\n",
    "ridge.fit(X_train, y_train)"
   ]
  },
  {
   "cell_type": "code",
   "execution_count": 41,
   "metadata": {},
   "outputs": [
    {
     "name": "stdout",
     "output_type": "stream",
     "text": [
      "RMSE = 4.881303146611373\n",
      "R2 = 0.695374686474\n"
     ]
    }
   ],
   "source": [
    "#Display RMSE and R2 with Alpha=0, Equal to LinearRegression model\n",
    "print(\"RMSE =\",sqrt(mean_squared_error(y_test, ridge.predict(X_test))))\n",
    "print(\"R2 =\",r2_score(y_test, ridge.predict(X_test)))\n"
   ]
  },
  {
   "cell_type": "markdown",
   "metadata": {},
   "source": [
    "#### Optimize alpha"
   ]
  },
  {
   "cell_type": "code",
   "execution_count": 47,
   "metadata": {},
   "outputs": [
    {
     "name": "stdout",
     "output_type": "stream",
     "text": [
      "Best alpha for RMSE on test set=  7.999 , RMSE =  4.862173292300509\n",
      "Best alpha for r2 on test set =  7.999 , R2 = 0.697757664467\n"
     ]
    }
   ],
   "source": [
    "#Try several possible alphas to optimize alpha value\n",
    "a = np.arange(0.0, 8.0, 0.001)\n",
    "\n",
    "#Save first alpha as best yet for rmse and r2 values\n",
    "best_rmse_alpha_test = a[0]\n",
    "best_r2_alpha_test = a[0]\n",
    "\n",
    "#Create Ridge model with alpha = 0 and fit to training set\n",
    "r = Ridge(alpha=a[0])\n",
    "r.fit(X_train, y_train)\n",
    "    \n",
    "#Save RMSE and R2 scores for first alpha as best yet\n",
    "best_rmse_test = sqrt(mean_squared_error(y_test, r.predict(X_test)))\n",
    "best_r2_test = r2_score(y_test, r.predict(X_test))\n",
    "\n",
    "#Iterate through alpha array updating the ridge model with new alpha and train model\n",
    "for i in range(len(a)):\n",
    "    r.set_params(alpha=a[i])\n",
    "    r.fit(X_train, y_train)\n",
    "        \n",
    "    #Get predictions for the test set and calculate RMSE and R2 scores\n",
    "    p_test = r.predict(X_test)\n",
    "    current_rmse = sqrt(mean_squared_error(y_test, p_test))\n",
    "    current_r2 = r2_score(y_test, p_test)\n",
    "    \n",
    "    #Update best alpha and scores if new model is an improvement\n",
    "    if current_rmse < best_rmse_test:\n",
    "        best_rmse_test = current_rmse\n",
    "        best_rmse_alpha_test = a[i]\n",
    "            \n",
    "    if current_r2 > best_r2_test:\n",
    "        best_r2_test = current_r2\n",
    "        best_r2_alpha_test = a[i]\n",
    "            \n",
    "#Display results\n",
    "print(\"Best alpha for RMSE on test set= \",best_rmse_alpha_test,\", RMSE = \",best_rmse_test) \n",
    "print(\"Best alpha for r2 on test set = \",best_r2_alpha_test,\", R2 =\",best_r2_test)"
   ]
  },
  {
   "cell_type": "code",
   "execution_count": 40,
   "metadata": {},
   "outputs": [
    {
     "name": "stdout",
     "output_type": "stream",
     "text": [
      "Ridge model with alpha = 0 :: R2= 0.695374686474  RMSE= 4.881303146611373\n",
      "Ridge model with alpha = 7.999 :: R2= 0.697757664467 RMSE= 4.862173292300509\n"
     ]
    }
   ],
   "source": [
    "#Compare RMSE and R2 score for alpha=0 and optimized alpha\n",
    "r = Ridge(alpha=0)\n",
    "r.fit(X_train, y_train)\n",
    "print(\"Ridge model with alpha = 0 :: R2=\",r2_score(y_test, r.predict(X_test)),\" RMSE=\", sqrt(mean_squared_error(y_test, r.predict(X_test))))\n",
    "\n",
    "r = Ridge(alpha=best_rmse_alpha_test)#, normalize=True)\n",
    "r.fit(X_train, y_train)\n",
    "print(\"Ridge model with alpha =\",best_rmse_alpha_test,\":: R2=\",r2_score(y_test, r.predict(X_test)),\"RMSE=\",sqrt(mean_squared_error(y_test, r.predict(X_test))))"
   ]
  }
 ],
 "metadata": {
  "kernelspec": {
   "display_name": "Python 3",
   "language": "python",
   "name": "python3"
  },
  "language_info": {
   "codemirror_mode": {
    "name": "ipython",
    "version": 3
   },
   "file_extension": ".py",
   "mimetype": "text/x-python",
   "name": "python",
   "nbconvert_exporter": "python",
   "pygments_lexer": "ipython3",
   "version": "3.6.1"
  }
 },
 "nbformat": 4,
 "nbformat_minor": 1
}
