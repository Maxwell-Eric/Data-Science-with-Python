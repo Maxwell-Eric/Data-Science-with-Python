{
 "cells": [
  {
   "cell_type": "markdown",
   "metadata": {},
   "source": [
    "### Eric Maxwell\n",
    "### Data Science Final Project Part 2\n",
    "### Use RidgeCV to predict obesity rate\n",
    "+ #### Import files and create dataframe from city_data1.csv\n",
    "+ #### Remove the obesity rate to use as the dependent variable\n",
    "+ #### Make sure all attributes are numerical\n",
    "+ #### Scale the dataframe\n",
    "+ #### Use RidgeCV to calculate the R-squared value\n",
    "\n",
    "<hr style=\"height:3px\">"
   ]
  },
  {
   "cell_type": "code",
   "execution_count": 3,
   "metadata": {},
   "outputs": [
    {
     "name": "stdout",
     "output_type": "stream",
     "text": [
      "Populating the interactive namespace from numpy and matplotlib\n"
     ]
    }
   ],
   "source": [
    "import pandas as pd\n",
    "%pylab inline\n",
    "from IPython.display import display, HTML\n",
    "from sklearn.preprocessing import StandardScaler\n",
    "from sklearn.metrics import r2_score\n",
    "from sklearn.linear_model import RidgeCV"
   ]
  },
  {
   "cell_type": "markdown",
   "metadata": {},
   "source": [
    "#### Create data frame from city_data1.csv file."
   ]
  },
  {
   "cell_type": "code",
   "execution_count": 4,
   "metadata": {
    "collapsed": true
   },
   "outputs": [],
   "source": [
    "X = pd.read_csv(\"city_data1.csv\")"
   ]
  },
  {
   "cell_type": "markdown",
   "metadata": {},
   "source": [
    "#### Remove obesity rate and use as the dependent variable"
   ]
  },
  {
   "cell_type": "code",
   "execution_count": 5,
   "metadata": {
    "collapsed": true
   },
   "outputs": [],
   "source": [
    "y = X.pop('obesity_rate')"
   ]
  },
  {
   "cell_type": "markdown",
   "metadata": {},
   "source": [
    "#### View first few entries of the data frame\n",
    "+ Since we are using a linear model, all the data must be numerical"
   ]
  },
  {
   "cell_type": "code",
   "execution_count": 6,
   "metadata": {},
   "outputs": [
    {
     "data": {
      "text/html": [
       "<div>\n",
       "<style>\n",
       "    .dataframe thead tr:only-child th {\n",
       "        text-align: right;\n",
       "    }\n",
       "\n",
       "    .dataframe thead th {\n",
       "        text-align: left;\n",
       "    }\n",
       "\n",
       "    .dataframe tbody tr th {\n",
       "        vertical-align: top;\n",
       "    }\n",
       "</style>\n",
       "<table border=\"1\" class=\"dataframe\">\n",
       "  <thead>\n",
       "    <tr style=\"text-align: right;\">\n",
       "      <th></th>\n",
       "      <th>City</th>\n",
       "      <th>State</th>\n",
       "      <th>Population</th>\n",
       "      <th>high_school</th>\n",
       "      <th>bachelor</th>\n",
       "      <th>graduate</th>\n",
       "      <th>unemployment</th>\n",
       "      <th>median_income</th>\n",
       "    </tr>\n",
       "  </thead>\n",
       "  <tbody>\n",
       "    <tr>\n",
       "      <th>0</th>\n",
       "      <td>Anchorage</td>\n",
       "      <td>Alaska</td>\n",
       "      <td>301010</td>\n",
       "      <td>92.7</td>\n",
       "      <td>33.1</td>\n",
       "      <td>11.2</td>\n",
       "      <td>6.8</td>\n",
       "      <td>79045</td>\n",
       "    </tr>\n",
       "    <tr>\n",
       "      <th>1</th>\n",
       "      <td>Auburn</td>\n",
       "      <td>Alabama</td>\n",
       "      <td>60258</td>\n",
       "      <td>94.9</td>\n",
       "      <td>61.3</td>\n",
       "      <td>28.9</td>\n",
       "      <td>7.4</td>\n",
       "      <td>39903</td>\n",
       "    </tr>\n",
       "    <tr>\n",
       "      <th>2</th>\n",
       "      <td>Birmingham</td>\n",
       "      <td>Alabama</td>\n",
       "      <td>212247</td>\n",
       "      <td>87.1</td>\n",
       "      <td>25.3</td>\n",
       "      <td>8.7</td>\n",
       "      <td>10.8</td>\n",
       "      <td>32378</td>\n",
       "    </tr>\n",
       "    <tr>\n",
       "      <th>3</th>\n",
       "      <td>Decatur</td>\n",
       "      <td>Alabama</td>\n",
       "      <td>55532</td>\n",
       "      <td>82.7</td>\n",
       "      <td>24.9</td>\n",
       "      <td>7.8</td>\n",
       "      <td>5.7</td>\n",
       "      <td>42837</td>\n",
       "    </tr>\n",
       "    <tr>\n",
       "      <th>4</th>\n",
       "      <td>Dothan</td>\n",
       "      <td>Alabama</td>\n",
       "      <td>68409</td>\n",
       "      <td>87.7</td>\n",
       "      <td>24.8</td>\n",
       "      <td>9.2</td>\n",
       "      <td>7.9</td>\n",
       "      <td>44208</td>\n",
       "    </tr>\n",
       "  </tbody>\n",
       "</table>\n",
       "</div>"
      ],
      "text/plain": [
       "         City    State  Population  high_school  bachelor  graduate  \\\n",
       "0   Anchorage   Alaska      301010         92.7      33.1      11.2   \n",
       "1      Auburn  Alabama       60258         94.9      61.3      28.9   \n",
       "2  Birmingham  Alabama      212247         87.1      25.3       8.7   \n",
       "3     Decatur  Alabama       55532         82.7      24.9       7.8   \n",
       "4      Dothan  Alabama       68409         87.7      24.8       9.2   \n",
       "\n",
       "   unemployment  median_income  \n",
       "0           6.8          79045  \n",
       "1           7.4          39903  \n",
       "2          10.8          32378  \n",
       "3           5.7          42837  \n",
       "4           7.9          44208  "
      ]
     },
     "execution_count": 6,
     "metadata": {},
     "output_type": "execute_result"
    }
   ],
   "source": [
    "X.head()"
   ]
  },
  {
   "cell_type": "markdown",
   "metadata": {},
   "source": [
    "#### View numerical data"
   ]
  },
  {
   "cell_type": "code",
   "execution_count": 7,
   "metadata": {},
   "outputs": [
    {
     "data": {
      "text/html": [
       "<div>\n",
       "<style>\n",
       "    .dataframe thead tr:only-child th {\n",
       "        text-align: right;\n",
       "    }\n",
       "\n",
       "    .dataframe thead th {\n",
       "        text-align: left;\n",
       "    }\n",
       "\n",
       "    .dataframe tbody tr th {\n",
       "        vertical-align: top;\n",
       "    }\n",
       "</style>\n",
       "<table border=\"1\" class=\"dataframe\">\n",
       "  <thead>\n",
       "    <tr style=\"text-align: right;\">\n",
       "      <th></th>\n",
       "      <th>Population</th>\n",
       "      <th>high_school</th>\n",
       "      <th>bachelor</th>\n",
       "      <th>graduate</th>\n",
       "      <th>unemployment</th>\n",
       "      <th>median_income</th>\n",
       "    </tr>\n",
       "  </thead>\n",
       "  <tbody>\n",
       "    <tr>\n",
       "      <th>count</th>\n",
       "      <td>9.180000e+02</td>\n",
       "      <td>918.000000</td>\n",
       "      <td>918.000000</td>\n",
       "      <td>918.000000</td>\n",
       "      <td>918.000000</td>\n",
       "      <td>918.000000</td>\n",
       "    </tr>\n",
       "    <tr>\n",
       "      <th>mean</th>\n",
       "      <td>1.642200e+05</td>\n",
       "      <td>86.325599</td>\n",
       "      <td>32.410893</td>\n",
       "      <td>12.197168</td>\n",
       "      <td>5.975708</td>\n",
       "      <td>61103.049020</td>\n",
       "    </tr>\n",
       "    <tr>\n",
       "      <th>std</th>\n",
       "      <td>3.805813e+05</td>\n",
       "      <td>8.624192</td>\n",
       "      <td>14.838171</td>\n",
       "      <td>7.809524</td>\n",
       "      <td>2.684145</td>\n",
       "      <td>21836.310206</td>\n",
       "    </tr>\n",
       "    <tr>\n",
       "      <th>min</th>\n",
       "      <td>5.000400e+04</td>\n",
       "      <td>41.400000</td>\n",
       "      <td>5.800000</td>\n",
       "      <td>1.200000</td>\n",
       "      <td>1.700000</td>\n",
       "      <td>23984.000000</td>\n",
       "    </tr>\n",
       "    <tr>\n",
       "      <th>25%</th>\n",
       "      <td>6.224750e+04</td>\n",
       "      <td>82.600000</td>\n",
       "      <td>21.025000</td>\n",
       "      <td>6.825000</td>\n",
       "      <td>4.000000</td>\n",
       "      <td>45005.500000</td>\n",
       "    </tr>\n",
       "    <tr>\n",
       "      <th>50%</th>\n",
       "      <td>8.514900e+04</td>\n",
       "      <td>88.100000</td>\n",
       "      <td>29.400000</td>\n",
       "      <td>10.150000</td>\n",
       "      <td>5.400000</td>\n",
       "      <td>55558.500000</td>\n",
       "    </tr>\n",
       "    <tr>\n",
       "      <th>75%</th>\n",
       "      <td>1.385672e+05</td>\n",
       "      <td>92.300000</td>\n",
       "      <td>41.175000</td>\n",
       "      <td>15.500000</td>\n",
       "      <td>7.400000</td>\n",
       "      <td>73884.750000</td>\n",
       "    </tr>\n",
       "    <tr>\n",
       "      <th>max</th>\n",
       "      <td>8.491079e+06</td>\n",
       "      <td>98.700000</td>\n",
       "      <td>83.000000</td>\n",
       "      <td>54.800000</td>\n",
       "      <td>18.700000</td>\n",
       "      <td>160291.000000</td>\n",
       "    </tr>\n",
       "  </tbody>\n",
       "</table>\n",
       "</div>"
      ],
      "text/plain": [
       "         Population  high_school    bachelor    graduate  unemployment  \\\n",
       "count  9.180000e+02   918.000000  918.000000  918.000000    918.000000   \n",
       "mean   1.642200e+05    86.325599   32.410893   12.197168      5.975708   \n",
       "std    3.805813e+05     8.624192   14.838171    7.809524      2.684145   \n",
       "min    5.000400e+04    41.400000    5.800000    1.200000      1.700000   \n",
       "25%    6.224750e+04    82.600000   21.025000    6.825000      4.000000   \n",
       "50%    8.514900e+04    88.100000   29.400000   10.150000      5.400000   \n",
       "75%    1.385672e+05    92.300000   41.175000   15.500000      7.400000   \n",
       "max    8.491079e+06    98.700000   83.000000   54.800000     18.700000   \n",
       "\n",
       "       median_income  \n",
       "count     918.000000  \n",
       "mean    61103.049020  \n",
       "std     21836.310206  \n",
       "min     23984.000000  \n",
       "25%     45005.500000  \n",
       "50%     55558.500000  \n",
       "75%     73884.750000  \n",
       "max    160291.000000  "
      ]
     },
     "execution_count": 7,
     "metadata": {},
     "output_type": "execute_result"
    }
   ],
   "source": [
    "X.describe()"
   ]
  },
  {
   "cell_type": "markdown",
   "metadata": {},
   "source": [
    "#### Remove the city attribute. It is a unique identifier."
   ]
  },
  {
   "cell_type": "code",
   "execution_count": 8,
   "metadata": {
    "collapsed": true
   },
   "outputs": [],
   "source": [
    "X_c = X.drop('City', axis=1)"
   ]
  },
  {
   "cell_type": "markdown",
   "metadata": {},
   "source": [
    "#### Check that the state variable has no null values and get the value counts for each state."
   ]
  },
  {
   "cell_type": "code",
   "execution_count": 9,
   "metadata": {},
   "outputs": [
    {
     "name": "stdout",
     "output_type": "stream",
     "text": [
      "Null: 0\n",
      "California              213\n",
      "Florida                  83\n",
      "Texas                    76\n",
      "Washington               29\n",
      "Illinois                 29\n",
      "Michigan                 28\n",
      "New York                 28\n",
      "Massachusetts            25\n",
      "Arizona                  24\n",
      "New Jersey               23\n",
      "Colorado                 23\n",
      "Georgia                  20\n",
      "Connecticut              19\n",
      "North Carolina           18\n",
      "Minnesota                18\n",
      "Indiana                  17\n",
      "Virginia                 16\n",
      "Ohio                     15\n",
      "Utah                     15\n",
      "Maryland                 15\n",
      "Oregon                   14\n",
      "Tennessee                13\n",
      "Missouri                 13\n",
      "Wisconsin                12\n",
      "Iowa                     11\n",
      "Oklahoma                 11\n",
      "Nevada                   11\n",
      "Alabama                  10\n",
      "Kansas                    9\n",
      "Pennsylvania              9\n",
      "Louisiana                 8\n",
      "Arkansas                  8\n",
      "South Carolina            7\n",
      "Idaho                     6\n",
      "Kentucky                  5\n",
      "Rhode Island              4\n",
      "Hawaii                    4\n",
      "Nebraska                  4\n",
      "Delaware                  3\n",
      "Montana                   3\n",
      "New Mexico                3\n",
      "North Dakota              3\n",
      "Mississippi               3\n",
      "Wyoming                   2\n",
      "New Hampshire             2\n",
      "South Dakota              2\n",
      "Maine                     1\n",
      "District of Columbia      1\n",
      "Alaska                    1\n",
      "West Virginia             1\n",
      "Name: State, dtype: int64\n"
     ]
    }
   ],
   "source": [
    "print(\"Null:\",X_c.State.isnull().sum())\n",
    "print(X_c.State.value_counts())"
   ]
  },
  {
   "cell_type": "markdown",
   "metadata": {},
   "source": [
    "#### Create a bar plot to show major city distribution per state."
   ]
  },
  {
   "cell_type": "code",
   "execution_count": 10,
   "metadata": {},
   "outputs": [
    {
     "data": {
      "text/plain": [
       "[<matplotlib.text.Text at 0x257547a64a8>,\n",
       " <matplotlib.text.Text at 0x25754784e10>]"
      ]
     },
     "execution_count": 10,
     "metadata": {},
     "output_type": "execute_result"
    },
    {
     "data": {
      "image/png": "[encoded data removed]",
      "text/plain": [
       "<matplotlib.figure.Figure at 0x2575472d7f0>"
      ]
     },
     "metadata": {},
     "output_type": "display_data"
    }
   ],
   "source": [
    "State_bar = X_c.State.value_counts().plot(kind='barh', title='State Distribution', figsize=(15,15))\n",
    "State_bar.set(xlabel=\"Number of Cities\", ylabel=\"State\")"
   ]
  },
  {
   "cell_type": "markdown",
   "metadata": {},
   "source": [
    "#### Create dummie variables for each state. This makes the variables numerical."
   ]
  },
  {
   "cell_type": "code",
   "execution_count": 11,
   "metadata": {
    "collapsed": true
   },
   "outputs": [],
   "source": [
    "dummies = pd.get_dummies(X['State'], prefix='State')\n",
    "# Update X to include dummies and drop the main variable\n",
    "X_c = pd.concat([X_c, dummies], axis=1)\n",
    "X_c.drop(['State'], axis=1, inplace=True)"
   ]
  },
  {
   "cell_type": "markdown",
   "metadata": {},
   "source": [
    "#### View first few lines of data frame"
   ]
  },
  {
   "cell_type": "code",
   "execution_count": 12,
   "metadata": {},
   "outputs": [
    {
     "data": {
      "text/html": [
       "<div>\n",
       "<style>\n",
       "    .dataframe thead tr:only-child th {\n",
       "        text-align: right;\n",
       "    }\n",
       "\n",
       "    .dataframe thead th {\n",
       "        text-align: left;\n",
       "    }\n",
       "\n",
       "    .dataframe tbody tr th {\n",
       "        vertical-align: top;\n",
       "    }\n",
       "</style>\n",
       "<table border=\"1\" class=\"dataframe\">\n",
       "  <thead>\n",
       "    <tr style=\"text-align: right;\">\n",
       "      <th></th>\n",
       "      <th>Population</th>\n",
       "      <th>high_school</th>\n",
       "      <th>bachelor</th>\n",
       "      <th>graduate</th>\n",
       "      <th>unemployment</th>\n",
       "      <th>median_income</th>\n",
       "      <th>State_Alabama</th>\n",
       "      <th>State_Alaska</th>\n",
       "      <th>State_Arizona</th>\n",
       "      <th>State_Arkansas</th>\n",
       "      <th>...</th>\n",
       "      <th>State_South Carolina</th>\n",
       "      <th>State_South Dakota</th>\n",
       "      <th>State_Tennessee</th>\n",
       "      <th>State_Texas</th>\n",
       "      <th>State_Utah</th>\n",
       "      <th>State_Virginia</th>\n",
       "      <th>State_Washington</th>\n",
       "      <th>State_West Virginia</th>\n",
       "      <th>State_Wisconsin</th>\n",
       "      <th>State_Wyoming</th>\n",
       "    </tr>\n",
       "  </thead>\n",
       "  <tbody>\n",
       "    <tr>\n",
       "      <th>0</th>\n",
       "      <td>301010</td>\n",
       "      <td>92.7</td>\n",
       "      <td>33.1</td>\n",
       "      <td>11.2</td>\n",
       "      <td>6.8</td>\n",
       "      <td>79045</td>\n",
       "      <td>0</td>\n",
       "      <td>1</td>\n",
       "      <td>0</td>\n",
       "      <td>0</td>\n",
       "      <td>...</td>\n",
       "      <td>0</td>\n",
       "      <td>0</td>\n",
       "      <td>0</td>\n",
       "      <td>0</td>\n",
       "      <td>0</td>\n",
       "      <td>0</td>\n",
       "      <td>0</td>\n",
       "      <td>0</td>\n",
       "      <td>0</td>\n",
       "      <td>0</td>\n",
       "    </tr>\n",
       "    <tr>\n",
       "      <th>1</th>\n",
       "      <td>60258</td>\n",
       "      <td>94.9</td>\n",
       "      <td>61.3</td>\n",
       "      <td>28.9</td>\n",
       "      <td>7.4</td>\n",
       "      <td>39903</td>\n",
       "      <td>1</td>\n",
       "      <td>0</td>\n",
       "      <td>0</td>\n",
       "      <td>0</td>\n",
       "      <td>...</td>\n",
       "      <td>0</td>\n",
       "      <td>0</td>\n",
       "      <td>0</td>\n",
       "      <td>0</td>\n",
       "      <td>0</td>\n",
       "      <td>0</td>\n",
       "      <td>0</td>\n",
       "      <td>0</td>\n",
       "      <td>0</td>\n",
       "      <td>0</td>\n",
       "    </tr>\n",
       "    <tr>\n",
       "      <th>2</th>\n",
       "      <td>212247</td>\n",
       "      <td>87.1</td>\n",
       "      <td>25.3</td>\n",
       "      <td>8.7</td>\n",
       "      <td>10.8</td>\n",
       "      <td>32378</td>\n",
       "      <td>1</td>\n",
       "      <td>0</td>\n",
       "      <td>0</td>\n",
       "      <td>0</td>\n",
       "      <td>...</td>\n",
       "      <td>0</td>\n",
       "      <td>0</td>\n",
       "      <td>0</td>\n",
       "      <td>0</td>\n",
       "      <td>0</td>\n",
       "      <td>0</td>\n",
       "      <td>0</td>\n",
       "      <td>0</td>\n",
       "      <td>0</td>\n",
       "      <td>0</td>\n",
       "    </tr>\n",
       "    <tr>\n",
       "      <th>3</th>\n",
       "      <td>55532</td>\n",
       "      <td>82.7</td>\n",
       "      <td>24.9</td>\n",
       "      <td>7.8</td>\n",
       "      <td>5.7</td>\n",
       "      <td>42837</td>\n",
       "      <td>1</td>\n",
       "      <td>0</td>\n",
       "      <td>0</td>\n",
       "      <td>0</td>\n",
       "      <td>...</td>\n",
       "      <td>0</td>\n",
       "      <td>0</td>\n",
       "      <td>0</td>\n",
       "      <td>0</td>\n",
       "      <td>0</td>\n",
       "      <td>0</td>\n",
       "      <td>0</td>\n",
       "      <td>0</td>\n",
       "      <td>0</td>\n",
       "      <td>0</td>\n",
       "    </tr>\n",
       "    <tr>\n",
       "      <th>4</th>\n",
       "      <td>68409</td>\n",
       "      <td>87.7</td>\n",
       "      <td>24.8</td>\n",
       "      <td>9.2</td>\n",
       "      <td>7.9</td>\n",
       "      <td>44208</td>\n",
       "      <td>1</td>\n",
       "      <td>0</td>\n",
       "      <td>0</td>\n",
       "      <td>0</td>\n",
       "      <td>...</td>\n",
       "      <td>0</td>\n",
       "      <td>0</td>\n",
       "      <td>0</td>\n",
       "      <td>0</td>\n",
       "      <td>0</td>\n",
       "      <td>0</td>\n",
       "      <td>0</td>\n",
       "      <td>0</td>\n",
       "      <td>0</td>\n",
       "      <td>0</td>\n",
       "    </tr>\n",
       "  </tbody>\n",
       "</table>\n",
       "<p>5 rows × 56 columns</p>\n",
       "</div>"
      ],
      "text/plain": [
       "   Population  high_school  bachelor  graduate  unemployment  median_income  \\\n",
       "0      301010         92.7      33.1      11.2           6.8          79045   \n",
       "1       60258         94.9      61.3      28.9           7.4          39903   \n",
       "2      212247         87.1      25.3       8.7          10.8          32378   \n",
       "3       55532         82.7      24.9       7.8           5.7          42837   \n",
       "4       68409         87.7      24.8       9.2           7.9          44208   \n",
       "\n",
       "   State_Alabama  State_Alaska  State_Arizona  State_Arkansas      ...        \\\n",
       "0              0             1              0               0      ...         \n",
       "1              1             0              0               0      ...         \n",
       "2              1             0              0               0      ...         \n",
       "3              1             0              0               0      ...         \n",
       "4              1             0              0               0      ...         \n",
       "\n",
       "   State_South Carolina  State_South Dakota  State_Tennessee  State_Texas  \\\n",
       "0                     0                   0                0            0   \n",
       "1                     0                   0                0            0   \n",
       "2                     0                   0                0            0   \n",
       "3                     0                   0                0            0   \n",
       "4                     0                   0                0            0   \n",
       "\n",
       "   State_Utah  State_Virginia  State_Washington  State_West Virginia  \\\n",
       "0           0               0                 0                    0   \n",
       "1           0               0                 0                    0   \n",
       "2           0               0                 0                    0   \n",
       "3           0               0                 0                    0   \n",
       "4           0               0                 0                    0   \n",
       "\n",
       "   State_Wisconsin  State_Wyoming  \n",
       "0                0              0  \n",
       "1                0              0  \n",
       "2                0              0  \n",
       "3                0              0  \n",
       "4                0              0  \n",
       "\n",
       "[5 rows x 56 columns]"
      ]
     },
     "execution_count": 12,
     "metadata": {},
     "output_type": "execute_result"
    }
   ],
   "source": [
    "X_c.head()"
   ]
  },
  {
   "cell_type": "markdown",
   "metadata": {},
   "source": [
    "### Dataframe now has all numerical attributes\n",
    "<hr style=\"height:3px\">"
   ]
  },
  {
   "cell_type": "markdown",
   "metadata": {},
   "source": [
    "#### Create standard scaler"
   ]
  },
  {
   "cell_type": "code",
   "execution_count": 13,
   "metadata": {
    "collapsed": true
   },
   "outputs": [],
   "source": [
    "ss = StandardScaler()"
   ]
  },
  {
   "cell_type": "markdown",
   "metadata": {},
   "source": [
    "#### Scale the dataframe"
   ]
  },
  {
   "cell_type": "code",
   "execution_count": 14,
   "metadata": {
    "collapsed": true
   },
   "outputs": [],
   "source": [
    "X_c_scaled = ss.fit_transform(X_c)"
   ]
  },
  {
   "cell_type": "code",
   "execution_count": 16,
   "metadata": {},
   "outputs": [
    {
     "data": {
      "text/plain": [
       "array([[  0.35961986,   0.73953309,   0.04646681, ...,  -0.03302291,\n",
       "         -0.11508707,  -0.04672693],\n",
       "       [ -0.27331523,   0.99476849,   1.9480066 , ...,  -0.03302291,\n",
       "         -0.11508707,  -0.04672693],\n",
       "       [  0.12626264,   0.08984296,  -0.47949101, ...,  -0.03302291,\n",
       "         -0.11508707,  -0.04672693],\n",
       "       ..., \n",
       "       [ -0.29922132,   0.64672021,   0.49150803, ...,  30.28200786,\n",
       "         -0.11508707,  -0.04672693],\n",
       "       [ -0.27376742,   0.6351186 ,  -0.62783809, ...,  -0.03302291,\n",
       "         -0.11508707,  21.40093456],\n",
       "       [ -0.26651403,   0.82074435,  -0.20976905, ...,  -0.03302291,\n",
       "         -0.11508707,  21.40093456]])"
      ]
     },
     "execution_count": 16,
     "metadata": {},
     "output_type": "execute_result"
    }
   ],
   "source": [
    "X_c_scaled"
   ]
  },
  {
   "cell_type": "markdown",
   "metadata": {},
   "source": [
    "#### Create RidgeCV linear regression model"
   ]
  },
  {
   "cell_type": "code",
   "execution_count": 17,
   "metadata": {},
   "outputs": [
    {
     "data": {
      "text/plain": [
       "RidgeCV(alphas=array([  0.1,   0.2, ...,  39.8,  39.9]), cv=10,\n",
       "    fit_intercept=True, gcv_mode=None, normalize=False, scoring=None,\n",
       "    store_cv_values=False)"
      ]
     },
     "execution_count": 17,
     "metadata": {},
     "output_type": "execute_result"
    }
   ],
   "source": [
    "a = np.arange(0.1, 40.0, 0.1)\n",
    "rcv = RidgeCV(alphas = a, cv=10)\n",
    "rcv.fit(X_c_scaled, y)"
   ]
  },
  {
   "cell_type": "markdown",
   "metadata": {},
   "source": [
    "#### Display model alphpa"
   ]
  },
  {
   "cell_type": "code",
   "execution_count": 18,
   "metadata": {},
   "outputs": [
    {
     "data": {
      "text/plain": [
       "22.900000000000002"
      ]
     },
     "execution_count": 18,
     "metadata": {},
     "output_type": "execute_result"
    }
   ],
   "source": [
    "rcv.alpha_"
   ]
  },
  {
   "cell_type": "markdown",
   "metadata": {},
   "source": [
    "### RidgeCV model R-squared score : 0.591\n",
    "+ #### This indicates that 59.1% of the variance is explained by the data."
   ]
  },
  {
   "cell_type": "code",
   "execution_count": 19,
   "metadata": {},
   "outputs": [
    {
     "data": {
      "text/plain": [
       "0.5906707446655709"
      ]
     },
     "execution_count": 19,
     "metadata": {},
     "output_type": "execute_result"
    }
   ],
   "source": [
    "rcv.score(X_c_scaled,y)"
   ]
  },
  {
   "cell_type": "markdown",
   "metadata": {},
   "source": [
    "<hr style=\"height:3px\">"
   ]
  },
  {
   "cell_type": "markdown",
   "metadata": {},
   "source": [
    "### Re-engineer the education rates\n",
    "+ #### Current education rates are not based on highest degree earned\n",
    "+ #### For example, someone with a Bachelor's degree will also be counted as having graduated from highschool\n",
    "+ #### Education rates will be changed to represent highest level of education."
   ]
  },
  {
   "cell_type": "markdown",
   "metadata": {},
   "source": [
    "#### Create new data frame"
   ]
  },
  {
   "cell_type": "code",
   "execution_count": 20,
   "metadata": {
    "collapsed": true
   },
   "outputs": [],
   "source": [
    "XE = X_c"
   ]
  },
  {
   "cell_type": "markdown",
   "metadata": {},
   "source": [
    "#### Change degree percentages in new data frame\n",
    "+ #### The percent of people who's highest education is highschool will be highschool graduates minus bachelor degree earners.\n",
    "+ #### The percent of people who's highest education is a bachelor's degree will be bachelor's minus graduate degree earners.\n",
    "+ #### Since graduate degrees are the highest possible degree in this study, it's value will not need to be changed."
   ]
  },
  {
   "cell_type": "code",
   "execution_count": 21,
   "metadata": {
    "collapsed": true
   },
   "outputs": [],
   "source": [
    "XE['high_school'] = XE['high_school']-XE['bachelor']\n",
    "XE['bachelor'] = XE['bachelor']- XE['graduate']"
   ]
  },
  {
   "cell_type": "markdown",
   "metadata": {},
   "source": [
    "#### Check the first few lines of the data frame to see if new education rates make sense."
   ]
  },
  {
   "cell_type": "code",
   "execution_count": 22,
   "metadata": {},
   "outputs": [
    {
     "data": {
      "text/html": [
       "<div>\n",
       "<style>\n",
       "    .dataframe thead tr:only-child th {\n",
       "        text-align: right;\n",
       "    }\n",
       "\n",
       "    .dataframe thead th {\n",
       "        text-align: left;\n",
       "    }\n",
       "\n",
       "    .dataframe tbody tr th {\n",
       "        vertical-align: top;\n",
       "    }\n",
       "</style>\n",
       "<table border=\"1\" class=\"dataframe\">\n",
       "  <thead>\n",
       "    <tr style=\"text-align: right;\">\n",
       "      <th></th>\n",
       "      <th>Population</th>\n",
       "      <th>high_school</th>\n",
       "      <th>bachelor</th>\n",
       "      <th>graduate</th>\n",
       "      <th>unemployment</th>\n",
       "      <th>median_income</th>\n",
       "      <th>State_Alabama</th>\n",
       "      <th>State_Alaska</th>\n",
       "      <th>State_Arizona</th>\n",
       "      <th>State_Arkansas</th>\n",
       "      <th>...</th>\n",
       "      <th>State_South Carolina</th>\n",
       "      <th>State_South Dakota</th>\n",
       "      <th>State_Tennessee</th>\n",
       "      <th>State_Texas</th>\n",
       "      <th>State_Utah</th>\n",
       "      <th>State_Virginia</th>\n",
       "      <th>State_Washington</th>\n",
       "      <th>State_West Virginia</th>\n",
       "      <th>State_Wisconsin</th>\n",
       "      <th>State_Wyoming</th>\n",
       "    </tr>\n",
       "  </thead>\n",
       "  <tbody>\n",
       "    <tr>\n",
       "      <th>0</th>\n",
       "      <td>301010</td>\n",
       "      <td>59.6</td>\n",
       "      <td>21.9</td>\n",
       "      <td>11.2</td>\n",
       "      <td>6.8</td>\n",
       "      <td>79045</td>\n",
       "      <td>0</td>\n",
       "      <td>1</td>\n",
       "      <td>0</td>\n",
       "      <td>0</td>\n",
       "      <td>...</td>\n",
       "      <td>0</td>\n",
       "      <td>0</td>\n",
       "      <td>0</td>\n",
       "      <td>0</td>\n",
       "      <td>0</td>\n",
       "      <td>0</td>\n",
       "      <td>0</td>\n",
       "      <td>0</td>\n",
       "      <td>0</td>\n",
       "      <td>0</td>\n",
       "    </tr>\n",
       "    <tr>\n",
       "      <th>1</th>\n",
       "      <td>60258</td>\n",
       "      <td>33.6</td>\n",
       "      <td>32.4</td>\n",
       "      <td>28.9</td>\n",
       "      <td>7.4</td>\n",
       "      <td>39903</td>\n",
       "      <td>1</td>\n",
       "      <td>0</td>\n",
       "      <td>0</td>\n",
       "      <td>0</td>\n",
       "      <td>...</td>\n",
       "      <td>0</td>\n",
       "      <td>0</td>\n",
       "      <td>0</td>\n",
       "      <td>0</td>\n",
       "      <td>0</td>\n",
       "      <td>0</td>\n",
       "      <td>0</td>\n",
       "      <td>0</td>\n",
       "      <td>0</td>\n",
       "      <td>0</td>\n",
       "    </tr>\n",
       "    <tr>\n",
       "      <th>2</th>\n",
       "      <td>212247</td>\n",
       "      <td>61.8</td>\n",
       "      <td>16.6</td>\n",
       "      <td>8.7</td>\n",
       "      <td>10.8</td>\n",
       "      <td>32378</td>\n",
       "      <td>1</td>\n",
       "      <td>0</td>\n",
       "      <td>0</td>\n",
       "      <td>0</td>\n",
       "      <td>...</td>\n",
       "      <td>0</td>\n",
       "      <td>0</td>\n",
       "      <td>0</td>\n",
       "      <td>0</td>\n",
       "      <td>0</td>\n",
       "      <td>0</td>\n",
       "      <td>0</td>\n",
       "      <td>0</td>\n",
       "      <td>0</td>\n",
       "      <td>0</td>\n",
       "    </tr>\n",
       "    <tr>\n",
       "      <th>3</th>\n",
       "      <td>55532</td>\n",
       "      <td>57.8</td>\n",
       "      <td>17.1</td>\n",
       "      <td>7.8</td>\n",
       "      <td>5.7</td>\n",
       "      <td>42837</td>\n",
       "      <td>1</td>\n",
       "      <td>0</td>\n",
       "      <td>0</td>\n",
       "      <td>0</td>\n",
       "      <td>...</td>\n",
       "      <td>0</td>\n",
       "      <td>0</td>\n",
       "      <td>0</td>\n",
       "      <td>0</td>\n",
       "      <td>0</td>\n",
       "      <td>0</td>\n",
       "      <td>0</td>\n",
       "      <td>0</td>\n",
       "      <td>0</td>\n",
       "      <td>0</td>\n",
       "    </tr>\n",
       "    <tr>\n",
       "      <th>4</th>\n",
       "      <td>68409</td>\n",
       "      <td>62.9</td>\n",
       "      <td>15.6</td>\n",
       "      <td>9.2</td>\n",
       "      <td>7.9</td>\n",
       "      <td>44208</td>\n",
       "      <td>1</td>\n",
       "      <td>0</td>\n",
       "      <td>0</td>\n",
       "      <td>0</td>\n",
       "      <td>...</td>\n",
       "      <td>0</td>\n",
       "      <td>0</td>\n",
       "      <td>0</td>\n",
       "      <td>0</td>\n",
       "      <td>0</td>\n",
       "      <td>0</td>\n",
       "      <td>0</td>\n",
       "      <td>0</td>\n",
       "      <td>0</td>\n",
       "      <td>0</td>\n",
       "    </tr>\n",
       "  </tbody>\n",
       "</table>\n",
       "<p>5 rows × 56 columns</p>\n",
       "</div>"
      ],
      "text/plain": [
       "   Population  high_school  bachelor  graduate  unemployment  median_income  \\\n",
       "0      301010         59.6      21.9      11.2           6.8          79045   \n",
       "1       60258         33.6      32.4      28.9           7.4          39903   \n",
       "2      212247         61.8      16.6       8.7          10.8          32378   \n",
       "3       55532         57.8      17.1       7.8           5.7          42837   \n",
       "4       68409         62.9      15.6       9.2           7.9          44208   \n",
       "\n",
       "   State_Alabama  State_Alaska  State_Arizona  State_Arkansas      ...        \\\n",
       "0              0             1              0               0      ...         \n",
       "1              1             0              0               0      ...         \n",
       "2              1             0              0               0      ...         \n",
       "3              1             0              0               0      ...         \n",
       "4              1             0              0               0      ...         \n",
       "\n",
       "   State_South Carolina  State_South Dakota  State_Tennessee  State_Texas  \\\n",
       "0                     0                   0                0            0   \n",
       "1                     0                   0                0            0   \n",
       "2                     0                   0                0            0   \n",
       "3                     0                   0                0            0   \n",
       "4                     0                   0                0            0   \n",
       "\n",
       "   State_Utah  State_Virginia  State_Washington  State_West Virginia  \\\n",
       "0           0               0                 0                    0   \n",
       "1           0               0                 0                    0   \n",
       "2           0               0                 0                    0   \n",
       "3           0               0                 0                    0   \n",
       "4           0               0                 0                    0   \n",
       "\n",
       "   State_Wisconsin  State_Wyoming  \n",
       "0                0              0  \n",
       "1                0              0  \n",
       "2                0              0  \n",
       "3                0              0  \n",
       "4                0              0  \n",
       "\n",
       "[5 rows x 56 columns]"
      ]
     },
     "execution_count": 22,
     "metadata": {},
     "output_type": "execute_result"
    }
   ],
   "source": [
    "XE.head()"
   ]
  },
  {
   "cell_type": "markdown",
   "metadata": {},
   "source": [
    "#### Scale data for use in RidgeCV linear regression model"
   ]
  },
  {
   "cell_type": "code",
   "execution_count": 23,
   "metadata": {
    "collapsed": true
   },
   "outputs": [],
   "source": [
    "XE_scaled = ss.fit_transform(XE)"
   ]
  },
  {
   "cell_type": "code",
   "execution_count": 28,
   "metadata": {},
   "outputs": [
    {
     "data": {
      "text/plain": [
       "array([[  0.35961986,   0.52707207,   0.21207003, ...,  -0.03302291,\n",
       "         -0.11508707,  -0.04672693],\n",
       "       [ -0.27331523,  -1.88333513,   1.53257587, ...,  -0.03302291,\n",
       "         -0.11508707,  -0.04672693],\n",
       "       [  0.12626264,   0.7310296 ,  -0.45447101, ...,  -0.03302291,\n",
       "         -0.11508707,  -0.04672693],\n",
       "       ..., \n",
       "       [ -0.29922132,  -0.1589669 ,   0.04857883, ...,  30.28200786,\n",
       "         -0.11508707,  -0.04672693],\n",
       "       [ -0.27376742,   1.37071459,  -0.59280972, ...,  -0.03302291,\n",
       "         -0.11508707,  21.40093456],\n",
       "       [ -0.26651403,   0.94425793,  -0.24067483, ...,  -0.03302291,\n",
       "         -0.11508707,  21.40093456]])"
      ]
     },
     "execution_count": 28,
     "metadata": {},
     "output_type": "execute_result"
    }
   ],
   "source": [
    "XE_scaled"
   ]
  },
  {
   "cell_type": "markdown",
   "metadata": {},
   "source": [
    "#### Create RidgeCV model based on new data frame"
   ]
  },
  {
   "cell_type": "code",
   "execution_count": 24,
   "metadata": {},
   "outputs": [
    {
     "data": {
      "text/plain": [
       "RidgeCV(alphas=array([  0.1,   0.2, ...,  39.8,  39.9]), cv=10,\n",
       "    fit_intercept=True, gcv_mode=None, normalize=False, scoring=None,\n",
       "    store_cv_values=False)"
      ]
     },
     "execution_count": 24,
     "metadata": {},
     "output_type": "execute_result"
    }
   ],
   "source": [
    "a = np.arange(0.1, 40.0, 0.1)\n",
    "rcv = RidgeCV(alphas = a, cv=10)\n",
    "rcv.fit(XE_scaled, y)"
   ]
  },
  {
   "cell_type": "markdown",
   "metadata": {},
   "source": [
    "#### Check to make sure alpha is within extremes"
   ]
  },
  {
   "cell_type": "code",
   "execution_count": 25,
   "metadata": {},
   "outputs": [
    {
     "data": {
      "text/plain": [
       "5.9000000000000004"
      ]
     },
     "execution_count": 25,
     "metadata": {},
     "output_type": "execute_result"
    }
   ],
   "source": [
    "rcv.alpha_"
   ]
  },
  {
   "cell_type": "markdown",
   "metadata": {},
   "source": [
    "### RidgeCV model R-squared score : 0.594\n",
    "+ #### This indicates that 59.4% of the variance is explained by the data.\n",
    "+ #### This is slightly better than the previous model."
   ]
  },
  {
   "cell_type": "code",
   "execution_count": 26,
   "metadata": {},
   "outputs": [
    {
     "data": {
      "text/plain": [
       "0.59415852361590726"
      ]
     },
     "execution_count": 26,
     "metadata": {},
     "output_type": "execute_result"
    }
   ],
   "source": [
    "rcv.score(XE_scaled,y)"
   ]
  },
  {
   "cell_type": "markdown",
   "metadata": {},
   "source": [
    "### This study was based off of large cities, which have varied populations.\n",
    "### Better results would likely be found if the study was done at the neighborhood level\n",
    "### Different areas of large cities would have very differing attributes, these ave been averaged for the city."
   ]
  },
  {
   "cell_type": "markdown",
   "metadata": {},
   "source": [
    "<hr style=\"height:15px\">"
   ]
  }
 ],
 "metadata": {
  "kernelspec": {
   "display_name": "Python 3",
   "language": "python",
   "name": "python3"
  },
  "language_info": {
   "codemirror_mode": {
    "name": "ipython",
    "version": 3
   },
   "file_extension": ".py",
   "mimetype": "text/x-python",
   "name": "python",
   "nbconvert_exporter": "python",
   "pygments_lexer": "ipython3",
   "version": "3.6.1"
  }
 },
 "nbformat": 4,
 "nbformat_minor": 2
}
