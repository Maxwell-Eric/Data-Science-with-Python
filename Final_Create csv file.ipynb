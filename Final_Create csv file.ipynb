{
 "cells": [
  {
   "cell_type": "markdown",
   "metadata": {},
   "source": [
    "### Eric Maxwell\n",
    "### Data Science Final Project Part 1\n",
    "<hr style=\"height:4px\">\n",
    "### Use www.city-data.com website to gather information about major cities in each state.\n",
    "+ #### Create a list of states\n",
    "+ #### Create CSV file with links to major cities - city_links.csv\n",
    "+ #### For each city in city_links.csv get city, state, population, education, unemployment and obesity rates and create a new CSV file - city_data1.csv\n",
    "\n",
    "<hr style=\"height:3px\">"
   ]
  },
  {
   "cell_type": "markdown",
   "metadata": {},
   "source": [
    "##### Import files"
   ]
  },
  {
   "cell_type": "code",
   "execution_count": 2,
   "metadata": {
    "collapsed": true
   },
   "outputs": [],
   "source": [
    "import pandas as pd\n",
    "from lxml import html\n",
    "import requests\n",
    "import csv"
   ]
  },
  {
   "cell_type": "markdown",
   "metadata": {},
   "source": [
    "<hr style=\"height:3px\">\n",
    "### Create city_links.csv\n",
    "##### Open www.city-data.com website"
   ]
  },
  {
   "cell_type": "code",
   "execution_count": 2,
   "metadata": {
    "collapsed": true
   },
   "outputs": [],
   "source": [
    "page = requests.get(\"http://www.city-data.com/\")\n",
    "tree = html.fromstring(page.content)"
   ]
  },
  {
   "cell_type": "markdown",
   "metadata": {},
   "source": [
    "##### Get a list of every state and store them in the variable states"
   ]
  },
  {
   "cell_type": "code",
   "execution_count": 3,
   "metadata": {
    "collapsed": true
   },
   "outputs": [],
   "source": [
    "states = tree.xpath('//div[@class=\"tab-pane active\"]/ul[@class=\"tab-list tab-list-short\"]/li/a/@href')"
   ]
  },
  {
   "cell_type": "markdown",
   "metadata": {},
   "source": [
    "##### Create a csv file which contains the links to the major cities for each state in the states list"
   ]
  },
  {
   "cell_type": "code",
   "execution_count": 7,
   "metadata": {
    "collapsed": true
   },
   "outputs": [],
   "source": [
    "#Open city_links.csv file for writing.\n",
    "file = open('city_links.csv','w')\n",
    "#Iterate through every state in the states list and add the city links to the csv file.\n",
    "for state in states:\n",
    "    a, b, c = state.partition(\"/city/\")\n",
    "    page1 = requests.get(state)\n",
    "    tree = html.fromstring(page1.content)\n",
    "    state_cities = tree.xpath('//table[@class=\"tabBlue tblsort tblsticky\"]/tbody/tr/td/b/a/text()')\n",
    "    for city in state_cities:\n",
    "        city = city.split(\",\")[0]\n",
    "        city = city.replace(\" \", \"-\")\n",
    "        city = city.replace(\"'\",\"-\")\n",
    "        file.write(a+b+city+\"-\"+c+'\\n')\n",
    "\n",
    "file.close()"
   ]
  },
  {
   "cell_type": "markdown",
   "metadata": {},
   "source": [
    "##### Create a data frame which contains the links to the cities"
   ]
  },
  {
   "cell_type": "code",
   "execution_count": 3,
   "metadata": {
    "collapsed": true
   },
   "outputs": [],
   "source": [
    "df = pd.read_csv(\"city_links.csv\")\n",
    "cl = df['links']"
   ]
  },
  {
   "cell_type": "markdown",
   "metadata": {},
   "source": [
    "### There is now a data frame, named cl, which contains links to all the major cities. "
   ]
  },
  {
   "cell_type": "markdown",
   "metadata": {},
   "source": [
    "<hr style=\"height:3px\">\n",
    "### Gather the following data from each city link in cl to create a csv file, city_data1.csv.\n",
    "+ State\n",
    "+ Population\n",
    "+ High school education rate\n",
    "+ Bachelor's diploma rate\n",
    "+ Graduate degree rate\n",
    "+ Unemployment rate\n",
    "+ Median Household Income\n",
    "+ Obesity Rate"
   ]
  },
  {
   "cell_type": "code",
   "execution_count": 50,
   "metadata": {
    "collapsed": true
   },
   "outputs": [],
   "source": [
    "#Open file\n",
    "f = open('city_data1.csv','w')\n",
    "\n",
    "#For every city in the city list\n",
    "for c in cl:\n",
    "    #Open web page\n",
    "    page3 = requests.get(c)\n",
    "    tree3 = html.fromstring(page3.content)\n",
    "    #Get the necessary information for the data frame\n",
    "    city, state = tree3.xpath('//h1[@class=\"city\"]/span/text()')[0].split(\", \")\n",
    "    population = (tree3.xpath('//section[@class=\"city-population\"]/text()')[0].split('.')[0].split('(')[0].replace(\",\",\"\"))\n",
    "    ed_un = tree3.xpath('//section[@class=\"education-info\"]/ul/li/text()')\n",
    "    high_school = (ed_un[0].replace('%',\"\"))\n",
    "    bachelors = (ed_un[1].replace('%',\"\"))\n",
    "    grad = (ed_un[2].replace('%',\"\"))\n",
    "    unempl = (ed_un[3].replace('%',\"\"))\n",
    "    median_income = (tree3.xpath('//section[@class=\"median-income\"]/text()')[0].replace('$','').split('(')[0].replace(\",\",\"\"))\n",
    "    obesity_rate = tree3.xpath('//section[@class=\"food-environment\"]/div/table/tr/td/text()')[12].replace('%',\"\")\n",
    "    #Write the information to the file\n",
    "    f.write(city+','+state+','+population+','+high_school+','+bachelors+','+grad+','+unempl+','+median_income+','+obesity_rate+'\\n')\n",
    "\n",
    "#Close the file\n",
    "f.close()"
   ]
  },
  {
   "cell_type": "markdown",
   "metadata": {
    "collapsed": true
   },
   "source": [
    "### There is now a csv file named city_data1.\n",
    "### This file contains all of the information needed to create the final data frame."
   ]
  },
  {
   "cell_type": "markdown",
   "metadata": {
    "collapsed": true
   },
   "source": [
    "<hr style=\"height:5px\">"
   ]
  }
 ],
 "metadata": {
  "kernelspec": {
   "display_name": "Python 3",
   "language": "python",
   "name": "python3"
  },
  "language_info": {
   "codemirror_mode": {
    "name": "ipython",
    "version": 3
   },
   "file_extension": ".py",
   "mimetype": "text/x-python",
   "name": "python",
   "nbconvert_exporter": "python",
   "pygments_lexer": "ipython3",
   "version": "3.6.1"
  }
 },
 "nbformat": 4,
 "nbformat_minor": 2
}
